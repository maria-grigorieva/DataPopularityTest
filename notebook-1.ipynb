{
 "cells": [
  {
   "cell_type": "code",
   "execution_count": 1,
   "metadata": {},
   "outputs": [],
   "source": [
    "import pandas as pd"
   ]
  },
  {
   "cell_type": "code",
   "execution_count": 34,
   "metadata": {},
   "outputs": [],
   "source": [
    "import collections"
   ]
  },
  {
   "cell_type": "code",
   "execution_count": 2,
   "metadata": {},
   "outputs": [],
   "source": [
    "df = pd.read_csv('February2021.csv')"
   ]
  },
  {
   "cell_type": "code",
   "execution_count": 3,
   "metadata": {},
   "outputs": [],
   "source": [
    "def filtration(df):\n",
    "    return df[(~df['queue'].str.contains(\"GPU|gpu\", na=False)) & (df['task_attemptnr']==0)\n",
    "              & (df['jobstatus']=='finished') & (df['ds_data_type']=='DAOD')\n",
    "              & (df['attempt_status'].isin(['finished','done']))\n",
    "              & (df['ds_scope'].str.contains(\"_13TeV\", na=False))]"
   ]
  },
  {
   "cell_type": "code",
   "execution_count": 4,
   "metadata": {},
   "outputs": [],
   "source": [
    "filtered = filtration(df)"
   ]
  },
  {
   "cell_type": "code",
   "execution_count": 5,
   "metadata": {},
   "outputs": [
    {
     "name": "stderr",
     "output_type": "stream",
     "text": [
      "/Users/maria/opt/miniconda3/envs/py37/lib/python3.7/site-packages/ipykernel_launcher.py:1: SettingWithCopyWarning: \n",
      "A value is trying to be set on a copy of a slice from a DataFrame.\n",
      "Try using .loc[row_indexer,col_indexer] = value instead\n",
      "\n",
      "See the caveats in the documentation: https://pandas.pydata.org/pandas-docs/stable/user_guide/indexing.html#returning-a-view-versus-a-copy\n",
      "  \"\"\"Entry point for launching an IPython kernel.\n",
      "/Users/maria/opt/miniconda3/envs/py37/lib/python3.7/site-packages/ipykernel_launcher.py:2: SettingWithCopyWarning: \n",
      "A value is trying to be set on a copy of a slice from a DataFrame.\n",
      "Try using .loc[row_indexer,col_indexer] = value instead\n",
      "\n",
      "See the caveats in the documentation: https://pandas.pydata.org/pandas-docs/stable/user_guide/indexing.html#returning-a-view-versus-a-copy\n",
      "  \n",
      "/Users/maria/opt/miniconda3/envs/py37/lib/python3.7/site-packages/ipykernel_launcher.py:3: SettingWithCopyWarning: \n",
      "A value is trying to be set on a copy of a slice from a DataFrame.\n",
      "Try using .loc[row_indexer,col_indexer] = value instead\n",
      "\n",
      "See the caveats in the documentation: https://pandas.pydata.org/pandas-docs/stable/user_guide/indexing.html#returning-a-view-versus-a-copy\n",
      "  This is separate from the ipykernel package so we can avoid doing imports until\n",
      "/Users/maria/opt/miniconda3/envs/py37/lib/python3.7/site-packages/ipykernel_launcher.py:4: SettingWithCopyWarning: \n",
      "A value is trying to be set on a copy of a slice from a DataFrame.\n",
      "Try using .loc[row_indexer,col_indexer] = value instead\n",
      "\n",
      "See the caveats in the documentation: https://pandas.pydata.org/pandas-docs/stable/user_guide/indexing.html#returning-a-view-versus-a-copy\n",
      "  after removing the cwd from sys.path.\n",
      "/Users/maria/opt/miniconda3/envs/py37/lib/python3.7/site-packages/ipykernel_launcher.py:5: SettingWithCopyWarning: \n",
      "A value is trying to be set on a copy of a slice from a DataFrame.\n",
      "Try using .loc[row_indexer,col_indexer] = value instead\n",
      "\n",
      "See the caveats in the documentation: https://pandas.pydata.org/pandas-docs/stable/user_guide/indexing.html#returning-a-view-versus-a-copy\n",
      "  \"\"\"\n",
      "/Users/maria/opt/miniconda3/envs/py37/lib/python3.7/site-packages/ipykernel_launcher.py:6: SettingWithCopyWarning: \n",
      "A value is trying to be set on a copy of a slice from a DataFrame.\n",
      "Try using .loc[row_indexer,col_indexer] = value instead\n",
      "\n",
      "See the caveats in the documentation: https://pandas.pydata.org/pandas-docs/stable/user_guide/indexing.html#returning-a-view-versus-a-copy\n",
      "  \n",
      "/Users/maria/opt/miniconda3/envs/py37/lib/python3.7/site-packages/ipykernel_launcher.py:7: SettingWithCopyWarning: \n",
      "A value is trying to be set on a copy of a slice from a DataFrame.\n",
      "Try using .loc[row_indexer,col_indexer] = value instead\n",
      "\n",
      "See the caveats in the documentation: https://pandas.pydata.org/pandas-docs/stable/user_guide/indexing.html#returning-a-view-versus-a-copy\n",
      "  import sys\n",
      "/Users/maria/opt/miniconda3/envs/py37/lib/python3.7/site-packages/ipykernel_launcher.py:8: SettingWithCopyWarning: \n",
      "A value is trying to be set on a copy of a slice from a DataFrame.\n",
      "Try using .loc[row_indexer,col_indexer] = value instead\n",
      "\n",
      "See the caveats in the documentation: https://pandas.pydata.org/pandas-docs/stable/user_guide/indexing.html#returning-a-view-versus-a-copy\n",
      "  \n"
     ]
    }
   ],
   "source": [
    "filtered['fraction_of_dataset'] = filtered['jobs_primary_input_fsize']/filtered['ds_bytes']\n",
    "filtered['jobs_timetostart'] = filtered['jobs_timetostart']/60\n",
    "filtered['jobs_total_duration'] = filtered['jobs_total_duration']/60\n",
    "filtered['jobs_total_walltime'] = filtered['jobs_total_walltime']/60\n",
    "filtered['jobs_cpuconsumptiontime'] = filtered['jobs_cpuconsumptiontime']/60\n",
    "filtered['jobs_total_inputfilebytes'] = filtered['jobs_total_inputfilebytes']/1000000000\n",
    "filtered['jobs_total_outputfilebytes'] = filtered['jobs_total_outputfilebytes']/1000000000\n",
    "filtered['fraction_of_attempt_duration'] = filtered['jobs_total_duration']/(filtered['attempt_total_duration']/60)"
   ]
  },
  {
   "cell_type": "code",
   "execution_count": 6,
   "metadata": {},
   "outputs": [
    {
     "data": {
      "text/html": [
       "<div>\n",
       "<style scoped>\n",
       "    .dataframe tbody tr th:only-of-type {\n",
       "        vertical-align: middle;\n",
       "    }\n",
       "\n",
       "    .dataframe tbody tr th {\n",
       "        vertical-align: top;\n",
       "    }\n",
       "\n",
       "    .dataframe thead th {\n",
       "        text-align: right;\n",
       "    }\n",
       "</style>\n",
       "<table border=\"1\" class=\"dataframe\">\n",
       "  <thead>\n",
       "    <tr style=\"text-align: right;\">\n",
       "      <th></th>\n",
       "      <th>Unnamed: 0</th>\n",
       "      <th>jeditaskid</th>\n",
       "      <th>task_status</th>\n",
       "      <th>campaign</th>\n",
       "      <th>gshare</th>\n",
       "      <th>username</th>\n",
       "      <th>institute_country</th>\n",
       "      <th>institute_location</th>\n",
       "      <th>institute_name</th>\n",
       "      <th>task_creationdate</th>\n",
       "      <th>...</th>\n",
       "      <th>ds_access_cnt</th>\n",
       "      <th>ds_name</th>\n",
       "      <th>ds_physics_short</th>\n",
       "      <th>ds_prod_step</th>\n",
       "      <th>ds_project</th>\n",
       "      <th>ds_replicas_number</th>\n",
       "      <th>ds_scope</th>\n",
       "      <th>ds_type</th>\n",
       "      <th>fraction_of_dataset</th>\n",
       "      <th>fraction_of_attempt_duration</th>\n",
       "    </tr>\n",
       "  </thead>\n",
       "  <tbody>\n",
       "    <tr>\n",
       "      <th>1</th>\n",
       "      <td>1</td>\n",
       "      <td>24233285</td>\n",
       "      <td>done</td>\n",
       "      <td>mc16_13TeV</td>\n",
       "      <td>User Analysis</td>\n",
       "      <td>Marian Benedikt Rendel</td>\n",
       "      <td>GERMANY</td>\n",
       "      <td>51,9</td>\n",
       "      <td>Max-Planck-Institut fur Physik (DE)</td>\n",
       "      <td>2021-02-17 12:47:05</td>\n",
       "      <td>...</td>\n",
       "      <td>90.0</td>\n",
       "      <td>mc16_13TeV.364204.Sherpa_221_NN30NNLO_Zee_Mll1...</td>\n",
       "      <td>Sherpa_221_NN30NNLO_Zee_Mll10_40_MAXHTPTV0_70_...</td>\n",
       "      <td>deriv</td>\n",
       "      <td>mc16_13TeV</td>\n",
       "      <td>1.0</td>\n",
       "      <td>mc16_13TeV</td>\n",
       "      <td>mc</td>\n",
       "      <td>0.856101</td>\n",
       "      <td>0.194905</td>\n",
       "    </tr>\n",
       "    <tr>\n",
       "      <th>2</th>\n",
       "      <td>2</td>\n",
       "      <td>24233285</td>\n",
       "      <td>done</td>\n",
       "      <td>mc16_13TeV</td>\n",
       "      <td>User Analysis</td>\n",
       "      <td>Marian Benedikt Rendel</td>\n",
       "      <td>GERMANY</td>\n",
       "      <td>51,9</td>\n",
       "      <td>Max-Planck-Institut fur Physik (DE)</td>\n",
       "      <td>2021-02-17 12:47:05</td>\n",
       "      <td>...</td>\n",
       "      <td>163.0</td>\n",
       "      <td>mc16_13TeV.364204.Sherpa_221_NN30NNLO_Zee_Mll1...</td>\n",
       "      <td>Sherpa_221_NN30NNLO_Zee_Mll10_40_MAXHTPTV0_70_...</td>\n",
       "      <td>deriv</td>\n",
       "      <td>mc16_13TeV</td>\n",
       "      <td>2.0</td>\n",
       "      <td>mc16_13TeV</td>\n",
       "      <td>mc</td>\n",
       "      <td>0.750284</td>\n",
       "      <td>0.221088</td>\n",
       "    </tr>\n",
       "    <tr>\n",
       "      <th>3</th>\n",
       "      <td>3</td>\n",
       "      <td>24235316</td>\n",
       "      <td>done</td>\n",
       "      <td>mc16_13TeV</td>\n",
       "      <td>User Analysis</td>\n",
       "      <td>Qibin Liu</td>\n",
       "      <td>CHINA</td>\n",
       "      <td>35,105</td>\n",
       "      <td>Tsung-Dao Lee Institute (CN)</td>\n",
       "      <td>2021-02-17 16:48:46</td>\n",
       "      <td>...</td>\n",
       "      <td>102.0</td>\n",
       "      <td>mc16_13TeV.363358.Sherpa_221_NNPDF30NNLO_WqqZl...</td>\n",
       "      <td>Sherpa_221_NNPDF30NNLO_WqqZll</td>\n",
       "      <td>deriv</td>\n",
       "      <td>mc16_13TeV</td>\n",
       "      <td>1.0</td>\n",
       "      <td>mc16_13TeV</td>\n",
       "      <td>mc</td>\n",
       "      <td>0.881240</td>\n",
       "      <td>0.286992</td>\n",
       "    </tr>\n",
       "    <tr>\n",
       "      <th>4</th>\n",
       "      <td>4</td>\n",
       "      <td>24235316</td>\n",
       "      <td>done</td>\n",
       "      <td>mc16_13TeV</td>\n",
       "      <td>User Analysis</td>\n",
       "      <td>Qibin Liu</td>\n",
       "      <td>CHINA</td>\n",
       "      <td>35,105</td>\n",
       "      <td>Tsung-Dao Lee Institute (CN)</td>\n",
       "      <td>2021-02-17 16:48:46</td>\n",
       "      <td>...</td>\n",
       "      <td>185.0</td>\n",
       "      <td>mc16_13TeV.363358.Sherpa_221_NNPDF30NNLO_WqqZl...</td>\n",
       "      <td>Sherpa_221_NNPDF30NNLO_WqqZll</td>\n",
       "      <td>deriv</td>\n",
       "      <td>mc16_13TeV</td>\n",
       "      <td>1.0</td>\n",
       "      <td>mc16_13TeV</td>\n",
       "      <td>mc</td>\n",
       "      <td>0.842391</td>\n",
       "      <td>0.162441</td>\n",
       "    </tr>\n",
       "    <tr>\n",
       "      <th>7</th>\n",
       "      <td>7</td>\n",
       "      <td>24236977</td>\n",
       "      <td>finished</td>\n",
       "      <td>NaN</td>\n",
       "      <td>Group Higgs</td>\n",
       "      <td>Bianca Monica Ciungu</td>\n",
       "      <td>CANADA</td>\n",
       "      <td>60,-95</td>\n",
       "      <td>University of Toronto (CA)</td>\n",
       "      <td>2021-02-17 18:09:48</td>\n",
       "      <td>...</td>\n",
       "      <td>129.0</td>\n",
       "      <td>mc16_13TeV.364243.Sherpa_222_NNPDF30NNLO_WWZ_4...</td>\n",
       "      <td>Sherpa_222_NNPDF30NNLO_WWZ_4l2v_EW6</td>\n",
       "      <td>deriv</td>\n",
       "      <td>mc16_13TeV</td>\n",
       "      <td>1.0</td>\n",
       "      <td>mc16_13TeV</td>\n",
       "      <td>mc</td>\n",
       "      <td>1.000000</td>\n",
       "      <td>0.091742</td>\n",
       "    </tr>\n",
       "    <tr>\n",
       "      <th>11</th>\n",
       "      <td>11</td>\n",
       "      <td>24273573</td>\n",
       "      <td>done</td>\n",
       "      <td>mc16_13TeV</td>\n",
       "      <td>Group Higgs</td>\n",
       "      <td>Antonio De Maria</td>\n",
       "      <td>CHINA</td>\n",
       "      <td>35,105</td>\n",
       "      <td>Nanjing University (CN)</td>\n",
       "      <td>2021-02-21 08:56:05</td>\n",
       "      <td>...</td>\n",
       "      <td>144.0</td>\n",
       "      <td>mc16_13TeV.346923.PhPy8EG_A14NNPDF23_NNPDF30ME...</td>\n",
       "      <td>PhPy8EG_A14NNPDF23_NNPDF30ME_ttH125_semilep_ta...</td>\n",
       "      <td>deriv</td>\n",
       "      <td>mc16_13TeV</td>\n",
       "      <td>2.0</td>\n",
       "      <td>mc16_13TeV</td>\n",
       "      <td>mc</td>\n",
       "      <td>1.000000</td>\n",
       "      <td>0.635222</td>\n",
       "    </tr>\n",
       "    <tr>\n",
       "      <th>13</th>\n",
       "      <td>13</td>\n",
       "      <td>24274410</td>\n",
       "      <td>finished</td>\n",
       "      <td>mc16_13TeV</td>\n",
       "      <td>User Analysis</td>\n",
       "      <td>Luis Monsonis Romero</td>\n",
       "      <td>SPAIN</td>\n",
       "      <td>40,-4</td>\n",
       "      <td>Univ. of Valencia and CSIC (ES)</td>\n",
       "      <td>2021-02-21 12:54:57</td>\n",
       "      <td>...</td>\n",
       "      <td>569.0</td>\n",
       "      <td>mc16_13TeV.364175.Sherpa_221_NNPDF30NNLO_Wenu_...</td>\n",
       "      <td>Sherpa_221_NNPDF30NNLO_Wenu_MAXHTPTV70_140_BFi...</td>\n",
       "      <td>deriv</td>\n",
       "      <td>mc16_13TeV</td>\n",
       "      <td>2.0</td>\n",
       "      <td>mc16_13TeV</td>\n",
       "      <td>mc</td>\n",
       "      <td>0.280161</td>\n",
       "      <td>0.431416</td>\n",
       "    </tr>\n",
       "    <tr>\n",
       "      <th>14</th>\n",
       "      <td>14</td>\n",
       "      <td>24274410</td>\n",
       "      <td>finished</td>\n",
       "      <td>mc16_13TeV</td>\n",
       "      <td>User Analysis</td>\n",
       "      <td>Luis Monsonis Romero</td>\n",
       "      <td>SPAIN</td>\n",
       "      <td>40,-4</td>\n",
       "      <td>Univ. of Valencia and CSIC (ES)</td>\n",
       "      <td>2021-02-21 12:54:57</td>\n",
       "      <td>...</td>\n",
       "      <td>238.0</td>\n",
       "      <td>mc16_13TeV.364175.Sherpa_221_NNPDF30NNLO_Wenu_...</td>\n",
       "      <td>Sherpa_221_NNPDF30NNLO_Wenu_MAXHTPTV70_140_BFi...</td>\n",
       "      <td>deriv</td>\n",
       "      <td>mc16_13TeV</td>\n",
       "      <td>2.0</td>\n",
       "      <td>mc16_13TeV</td>\n",
       "      <td>mc</td>\n",
       "      <td>0.082663</td>\n",
       "      <td>0.133986</td>\n",
       "    </tr>\n",
       "    <tr>\n",
       "      <th>17</th>\n",
       "      <td>17</td>\n",
       "      <td>24277565</td>\n",
       "      <td>done</td>\n",
       "      <td>data17_13TeV</td>\n",
       "      <td>User Analysis</td>\n",
       "      <td>Mingming Xia</td>\n",
       "      <td>CHINA</td>\n",
       "      <td>35,105</td>\n",
       "      <td>Tsinghua University (CN)</td>\n",
       "      <td>2021-02-22 02:47:11</td>\n",
       "      <td>...</td>\n",
       "      <td>59.0</td>\n",
       "      <td>data17_13TeV.00336719.physics_BphysLS.deriv.DA...</td>\n",
       "      <td>NaN</td>\n",
       "      <td>deriv</td>\n",
       "      <td>data17_13TeV</td>\n",
       "      <td>2.0</td>\n",
       "      <td>data17_13TeV</td>\n",
       "      <td>data</td>\n",
       "      <td>1.000000</td>\n",
       "      <td>0.057665</td>\n",
       "    </tr>\n",
       "    <tr>\n",
       "      <th>19</th>\n",
       "      <td>19</td>\n",
       "      <td>24279629</td>\n",
       "      <td>done</td>\n",
       "      <td>mc16_13TeV</td>\n",
       "      <td>User Analysis</td>\n",
       "      <td>Javier Alberto Aparisi Pozo</td>\n",
       "      <td>SPAIN</td>\n",
       "      <td>40,-4</td>\n",
       "      <td>Univ. of Valencia and CSIC (ES)</td>\n",
       "      <td>2021-02-22 11:22:54</td>\n",
       "      <td>...</td>\n",
       "      <td>246.0</td>\n",
       "      <td>mc16_13TeV.364191.Sherpa_221_NNPDF30NNLO_Wtaun...</td>\n",
       "      <td>Sherpa_221_NNPDF30NNLO_Wtaunu_MAXHTPTV140_280_...</td>\n",
       "      <td>deriv</td>\n",
       "      <td>mc16_13TeV</td>\n",
       "      <td>1.0</td>\n",
       "      <td>mc16_13TeV</td>\n",
       "      <td>mc</td>\n",
       "      <td>0.443549</td>\n",
       "      <td>0.036785</td>\n",
       "    </tr>\n",
       "  </tbody>\n",
       "</table>\n",
       "<p>10 rows × 96 columns</p>\n",
       "</div>"
      ],
      "text/plain": [
       "    Unnamed: 0  jeditaskid task_status      campaign         gshare  \\\n",
       "1            1    24233285        done    mc16_13TeV  User Analysis   \n",
       "2            2    24233285        done    mc16_13TeV  User Analysis   \n",
       "3            3    24235316        done    mc16_13TeV  User Analysis   \n",
       "4            4    24235316        done    mc16_13TeV  User Analysis   \n",
       "7            7    24236977    finished           NaN    Group Higgs   \n",
       "11          11    24273573        done    mc16_13TeV    Group Higgs   \n",
       "13          13    24274410    finished    mc16_13TeV  User Analysis   \n",
       "14          14    24274410    finished    mc16_13TeV  User Analysis   \n",
       "17          17    24277565        done  data17_13TeV  User Analysis   \n",
       "19          19    24279629        done    mc16_13TeV  User Analysis   \n",
       "\n",
       "                       username institute_country institute_location  \\\n",
       "1        Marian Benedikt Rendel           GERMANY               51,9   \n",
       "2        Marian Benedikt Rendel           GERMANY               51,9   \n",
       "3                     Qibin Liu             CHINA             35,105   \n",
       "4                     Qibin Liu             CHINA             35,105   \n",
       "7          Bianca Monica Ciungu            CANADA             60,-95   \n",
       "11             Antonio De Maria             CHINA             35,105   \n",
       "13         Luis Monsonis Romero             SPAIN              40,-4   \n",
       "14         Luis Monsonis Romero             SPAIN              40,-4   \n",
       "17                 Mingming Xia             CHINA             35,105   \n",
       "19  Javier Alberto Aparisi Pozo             SPAIN              40,-4   \n",
       "\n",
       "                         institute_name    task_creationdate  ...  \\\n",
       "1   Max-Planck-Institut fur Physik (DE)  2021-02-17 12:47:05  ...   \n",
       "2   Max-Planck-Institut fur Physik (DE)  2021-02-17 12:47:05  ...   \n",
       "3          Tsung-Dao Lee Institute (CN)  2021-02-17 16:48:46  ...   \n",
       "4          Tsung-Dao Lee Institute (CN)  2021-02-17 16:48:46  ...   \n",
       "7            University of Toronto (CA)  2021-02-17 18:09:48  ...   \n",
       "11              Nanjing University (CN)  2021-02-21 08:56:05  ...   \n",
       "13      Univ. of Valencia and CSIC (ES)  2021-02-21 12:54:57  ...   \n",
       "14      Univ. of Valencia and CSIC (ES)  2021-02-21 12:54:57  ...   \n",
       "17             Tsinghua University (CN)  2021-02-22 02:47:11  ...   \n",
       "19      Univ. of Valencia and CSIC (ES)  2021-02-22 11:22:54  ...   \n",
       "\n",
       "   ds_access_cnt                                            ds_name  \\\n",
       "1           90.0  mc16_13TeV.364204.Sherpa_221_NN30NNLO_Zee_Mll1...   \n",
       "2          163.0  mc16_13TeV.364204.Sherpa_221_NN30NNLO_Zee_Mll1...   \n",
       "3          102.0  mc16_13TeV.363358.Sherpa_221_NNPDF30NNLO_WqqZl...   \n",
       "4          185.0  mc16_13TeV.363358.Sherpa_221_NNPDF30NNLO_WqqZl...   \n",
       "7          129.0  mc16_13TeV.364243.Sherpa_222_NNPDF30NNLO_WWZ_4...   \n",
       "11         144.0  mc16_13TeV.346923.PhPy8EG_A14NNPDF23_NNPDF30ME...   \n",
       "13         569.0  mc16_13TeV.364175.Sherpa_221_NNPDF30NNLO_Wenu_...   \n",
       "14         238.0  mc16_13TeV.364175.Sherpa_221_NNPDF30NNLO_Wenu_...   \n",
       "17          59.0  data17_13TeV.00336719.physics_BphysLS.deriv.DA...   \n",
       "19         246.0  mc16_13TeV.364191.Sherpa_221_NNPDF30NNLO_Wtaun...   \n",
       "\n",
       "                                     ds_physics_short ds_prod_step  \\\n",
       "1   Sherpa_221_NN30NNLO_Zee_Mll10_40_MAXHTPTV0_70_...        deriv   \n",
       "2   Sherpa_221_NN30NNLO_Zee_Mll10_40_MAXHTPTV0_70_...        deriv   \n",
       "3                       Sherpa_221_NNPDF30NNLO_WqqZll        deriv   \n",
       "4                       Sherpa_221_NNPDF30NNLO_WqqZll        deriv   \n",
       "7                 Sherpa_222_NNPDF30NNLO_WWZ_4l2v_EW6        deriv   \n",
       "11  PhPy8EG_A14NNPDF23_NNPDF30ME_ttH125_semilep_ta...        deriv   \n",
       "13  Sherpa_221_NNPDF30NNLO_Wenu_MAXHTPTV70_140_BFi...        deriv   \n",
       "14  Sherpa_221_NNPDF30NNLO_Wenu_MAXHTPTV70_140_BFi...        deriv   \n",
       "17                                                NaN        deriv   \n",
       "19  Sherpa_221_NNPDF30NNLO_Wtaunu_MAXHTPTV140_280_...        deriv   \n",
       "\n",
       "      ds_project ds_replicas_number      ds_scope ds_type fraction_of_dataset  \\\n",
       "1     mc16_13TeV                1.0    mc16_13TeV      mc            0.856101   \n",
       "2     mc16_13TeV                2.0    mc16_13TeV      mc            0.750284   \n",
       "3     mc16_13TeV                1.0    mc16_13TeV      mc            0.881240   \n",
       "4     mc16_13TeV                1.0    mc16_13TeV      mc            0.842391   \n",
       "7     mc16_13TeV                1.0    mc16_13TeV      mc            1.000000   \n",
       "11    mc16_13TeV                2.0    mc16_13TeV      mc            1.000000   \n",
       "13    mc16_13TeV                2.0    mc16_13TeV      mc            0.280161   \n",
       "14    mc16_13TeV                2.0    mc16_13TeV      mc            0.082663   \n",
       "17  data17_13TeV                2.0  data17_13TeV    data            1.000000   \n",
       "19    mc16_13TeV                1.0    mc16_13TeV      mc            0.443549   \n",
       "\n",
       "    fraction_of_attempt_duration  \n",
       "1                       0.194905  \n",
       "2                       0.221088  \n",
       "3                       0.286992  \n",
       "4                       0.162441  \n",
       "7                       0.091742  \n",
       "11                      0.635222  \n",
       "13                      0.431416  \n",
       "14                      0.133986  \n",
       "17                      0.057665  \n",
       "19                      0.036785  \n",
       "\n",
       "[10 rows x 96 columns]"
      ]
     },
     "execution_count": 6,
     "metadata": {},
     "output_type": "execute_result"
    }
   ],
   "source": [
    "filtered.head(10)"
   ]
  },
  {
   "cell_type": "code",
   "execution_count": 82,
   "metadata": {},
   "outputs": [],
   "source": [
    "data = filtered[['datasetname','ds_replicas_sites','ds_bytes']]"
   ]
  },
  {
   "cell_type": "code",
   "execution_count": 83,
   "metadata": {},
   "outputs": [
    {
     "data": {
      "text/plain": [
       "(481158, 3)"
      ]
     },
     "execution_count": 83,
     "metadata": {},
     "output_type": "execute_result"
    }
   ],
   "source": [
    "data.shape"
   ]
  },
  {
   "cell_type": "code",
   "execution_count": 49,
   "metadata": {},
   "outputs": [
    {
     "data": {
      "text/plain": [
       "1                             BNL-ATLAS\n",
       "2     RRC-KI-T1,UKI-NORTHGRID-LANCS-HEP\n",
       "3                                  MWT2\n",
       "4                             CERN-PROD\n",
       "7                                  MWT2\n",
       "11        NDGF-T1,UKI-NORTHGRID-MAN-HEP\n",
       "13                    CERN-PROD,GoeGrid\n",
       "14               TRIUMF-LCG2,GRIF-LPNHE\n",
       "17                     GoeGrid,FZK-LCG2\n",
       "19                       BU_ATLAS_Tier2\n",
       "Name: ds_replicas_sites, dtype: object"
      ]
     },
     "execution_count": 49,
     "metadata": {},
     "output_type": "execute_result"
    }
   ],
   "source": [
    "data['ds_replicas_sites'].head(10)"
   ]
  },
  {
   "cell_type": "code",
   "execution_count": 50,
   "metadata": {},
   "outputs": [
    {
     "name": "stderr",
     "output_type": "stream",
     "text": [
      "/Users/maria/opt/miniconda3/envs/py37/lib/python3.7/site-packages/ipykernel_launcher.py:1: SettingWithCopyWarning: \n",
      "A value is trying to be set on a copy of a slice from a DataFrame\n",
      "\n",
      "See the caveats in the documentation: https://pandas.pydata.org/pandas-docs/stable/user_guide/indexing.html#returning-a-view-versus-a-copy\n",
      "  \"\"\"Entry point for launching an IPython kernel.\n"
     ]
    }
   ],
   "source": [
    "data.dropna(subset=['ds_replicas_sites'],inplace=True) "
   ]
  },
  {
   "cell_type": "code",
   "execution_count": 84,
   "metadata": {},
   "outputs": [],
   "source": [
    "data = data.drop_duplicates()"
   ]
  },
  {
   "cell_type": "code",
   "execution_count": 102,
   "metadata": {},
   "outputs": [
    {
     "data": {
      "text/plain": [
       "(123006, 3)"
      ]
     },
     "execution_count": 102,
     "metadata": {},
     "output_type": "execute_result"
    }
   ],
   "source": [
    "data.shape"
   ]
  },
  {
   "cell_type": "code",
   "execution_count": 103,
   "metadata": {},
   "outputs": [],
   "source": [
    "data['ds_replicas_sites'] = data['ds_replicas_sites'].apply(lambda x: x.split(','))"
   ]
  },
  {
   "cell_type": "code",
   "execution_count": 104,
   "metadata": {},
   "outputs": [],
   "source": [
    "data = data.explode('ds_replicas_sites')"
   ]
  },
  {
   "cell_type": "code",
   "execution_count": 106,
   "metadata": {},
   "outputs": [
    {
     "data": {
      "text/html": [
       "<div>\n",
       "<style scoped>\n",
       "    .dataframe tbody tr th:only-of-type {\n",
       "        vertical-align: middle;\n",
       "    }\n",
       "\n",
       "    .dataframe tbody tr th {\n",
       "        vertical-align: top;\n",
       "    }\n",
       "\n",
       "    .dataframe thead th {\n",
       "        text-align: right;\n",
       "    }\n",
       "</style>\n",
       "<table border=\"1\" class=\"dataframe\">\n",
       "  <thead>\n",
       "    <tr style=\"text-align: right;\">\n",
       "      <th></th>\n",
       "      <th>datasetname</th>\n",
       "      <th>ds_replicas_sites</th>\n",
       "      <th>ds_bytes</th>\n",
       "    </tr>\n",
       "  </thead>\n",
       "  <tbody>\n",
       "    <tr>\n",
       "      <th>1</th>\n",
       "      <td>mc16_13TeV:mc16_13TeV.364204.Sherpa_221_NN30NN...</td>\n",
       "      <td>BNL-ATLAS</td>\n",
       "      <td>2.276295e+11</td>\n",
       "    </tr>\n",
       "    <tr>\n",
       "      <th>2</th>\n",
       "      <td>mc16_13TeV:mc16_13TeV.364204.Sherpa_221_NN30NN...</td>\n",
       "      <td>RRC-KI-T1</td>\n",
       "      <td>1.813067e+11</td>\n",
       "    </tr>\n",
       "    <tr>\n",
       "      <th>2</th>\n",
       "      <td>mc16_13TeV:mc16_13TeV.364204.Sherpa_221_NN30NN...</td>\n",
       "      <td>UKI-NORTHGRID-LANCS-HEP</td>\n",
       "      <td>1.813067e+11</td>\n",
       "    </tr>\n",
       "    <tr>\n",
       "      <th>3</th>\n",
       "      <td>mc16_13TeV:mc16_13TeV.363358.Sherpa_221_NNPDF3...</td>\n",
       "      <td>MWT2</td>\n",
       "      <td>2.686136e+11</td>\n",
       "    </tr>\n",
       "    <tr>\n",
       "      <th>4</th>\n",
       "      <td>mc16_13TeV:mc16_13TeV.363358.Sherpa_221_NNPDF3...</td>\n",
       "      <td>CERN-PROD</td>\n",
       "      <td>5.388923e+11</td>\n",
       "    </tr>\n",
       "    <tr>\n",
       "      <th>...</th>\n",
       "      <td>...</td>\n",
       "      <td>...</td>\n",
       "      <td>...</td>\n",
       "    </tr>\n",
       "    <tr>\n",
       "      <th>709487</th>\n",
       "      <td>data16_13TeV:data16_13TeV.00298771.physics_Mai...</td>\n",
       "      <td>BNL-ATLAS</td>\n",
       "      <td>1.010669e+10</td>\n",
       "    </tr>\n",
       "    <tr>\n",
       "      <th>709548</th>\n",
       "      <td>mc16_13TeV:mc16_13TeV.364116.Sherpa_221_NNPDF3...</td>\n",
       "      <td>BU_ATLAS_Tier2</td>\n",
       "      <td>5.161093e+10</td>\n",
       "    </tr>\n",
       "    <tr>\n",
       "      <th>709623</th>\n",
       "      <td>mc16_13TeV:mc16_13TeV.451868.MadGraphPythia8Ev...</td>\n",
       "      <td>INFN-T1</td>\n",
       "      <td>5.671346e+09</td>\n",
       "    </tr>\n",
       "    <tr>\n",
       "      <th>709624</th>\n",
       "      <td>mc16_13TeV:mc16_13TeV.364105.Sherpa_221_NNPDF3...</td>\n",
       "      <td>GoeGrid</td>\n",
       "      <td>6.363188e+10</td>\n",
       "    </tr>\n",
       "    <tr>\n",
       "      <th>709624</th>\n",
       "      <td>mc16_13TeV:mc16_13TeV.364105.Sherpa_221_NNPDF3...</td>\n",
       "      <td>MWT2</td>\n",
       "      <td>6.363188e+10</td>\n",
       "    </tr>\n",
       "  </tbody>\n",
       "</table>\n",
       "<p>214316 rows × 3 columns</p>\n",
       "</div>"
      ],
      "text/plain": [
       "                                              datasetname  \\\n",
       "1       mc16_13TeV:mc16_13TeV.364204.Sherpa_221_NN30NN...   \n",
       "2       mc16_13TeV:mc16_13TeV.364204.Sherpa_221_NN30NN...   \n",
       "2       mc16_13TeV:mc16_13TeV.364204.Sherpa_221_NN30NN...   \n",
       "3       mc16_13TeV:mc16_13TeV.363358.Sherpa_221_NNPDF3...   \n",
       "4       mc16_13TeV:mc16_13TeV.363358.Sherpa_221_NNPDF3...   \n",
       "...                                                   ...   \n",
       "709487  data16_13TeV:data16_13TeV.00298771.physics_Mai...   \n",
       "709548  mc16_13TeV:mc16_13TeV.364116.Sherpa_221_NNPDF3...   \n",
       "709623  mc16_13TeV:mc16_13TeV.451868.MadGraphPythia8Ev...   \n",
       "709624  mc16_13TeV:mc16_13TeV.364105.Sherpa_221_NNPDF3...   \n",
       "709624  mc16_13TeV:mc16_13TeV.364105.Sherpa_221_NNPDF3...   \n",
       "\n",
       "              ds_replicas_sites      ds_bytes  \n",
       "1                     BNL-ATLAS  2.276295e+11  \n",
       "2                     RRC-KI-T1  1.813067e+11  \n",
       "2       UKI-NORTHGRID-LANCS-HEP  1.813067e+11  \n",
       "3                          MWT2  2.686136e+11  \n",
       "4                     CERN-PROD  5.388923e+11  \n",
       "...                         ...           ...  \n",
       "709487                BNL-ATLAS  1.010669e+10  \n",
       "709548           BU_ATLAS_Tier2  5.161093e+10  \n",
       "709623                  INFN-T1  5.671346e+09  \n",
       "709624                  GoeGrid  6.363188e+10  \n",
       "709624                     MWT2  6.363188e+10  \n",
       "\n",
       "[214316 rows x 3 columns]"
      ]
     },
     "execution_count": 106,
     "metadata": {},
     "output_type": "execute_result"
    }
   ],
   "source": [
    "data"
   ]
  },
  {
   "cell_type": "code",
   "execution_count": 107,
   "metadata": {},
   "outputs": [],
   "source": [
    "def my_agg(x):\n",
    "    names = {\n",
    "        'N_datasets': x['datasetname'].count(),\n",
    "        'data_volume': x['ds_bytes'].sum()}\n",
    "\n",
    "    return pd.Series(names)"
   ]
  },
  {
   "cell_type": "code",
   "execution_count": 163,
   "metadata": {},
   "outputs": [
    {
     "data": {
      "text/plain": [
       "(214316, 3)"
      ]
     },
     "execution_count": 163,
     "metadata": {},
     "output_type": "execute_result"
    }
   ],
   "source": [
    "data.shape"
   ]
  },
  {
   "cell_type": "code",
   "execution_count": 164,
   "metadata": {},
   "outputs": [
    {
     "data": {
      "text/html": [
       "<div>\n",
       "<style scoped>\n",
       "    .dataframe tbody tr th:only-of-type {\n",
       "        vertical-align: middle;\n",
       "    }\n",
       "\n",
       "    .dataframe tbody tr th {\n",
       "        vertical-align: top;\n",
       "    }\n",
       "\n",
       "    .dataframe thead th {\n",
       "        text-align: right;\n",
       "    }\n",
       "</style>\n",
       "<table border=\"1\" class=\"dataframe\">\n",
       "  <thead>\n",
       "    <tr style=\"text-align: right;\">\n",
       "      <th></th>\n",
       "      <th>datasetname</th>\n",
       "      <th>ds_replicas_sites</th>\n",
       "      <th>ds_bytes</th>\n",
       "    </tr>\n",
       "  </thead>\n",
       "  <tbody>\n",
       "    <tr>\n",
       "      <th>1</th>\n",
       "      <td>mc16_13TeV:mc16_13TeV.364204.Sherpa_221_NN30NN...</td>\n",
       "      <td>BNL-ATLAS</td>\n",
       "      <td>2.276295e+11</td>\n",
       "    </tr>\n",
       "    <tr>\n",
       "      <th>2</th>\n",
       "      <td>mc16_13TeV:mc16_13TeV.364204.Sherpa_221_NN30NN...</td>\n",
       "      <td>RRC-KI-T1</td>\n",
       "      <td>1.813067e+11</td>\n",
       "    </tr>\n",
       "    <tr>\n",
       "      <th>2</th>\n",
       "      <td>mc16_13TeV:mc16_13TeV.364204.Sherpa_221_NN30NN...</td>\n",
       "      <td>UKI-NORTHGRID-LANCS-HEP</td>\n",
       "      <td>1.813067e+11</td>\n",
       "    </tr>\n",
       "    <tr>\n",
       "      <th>3</th>\n",
       "      <td>mc16_13TeV:mc16_13TeV.363358.Sherpa_221_NNPDF3...</td>\n",
       "      <td>MWT2</td>\n",
       "      <td>2.686136e+11</td>\n",
       "    </tr>\n",
       "    <tr>\n",
       "      <th>4</th>\n",
       "      <td>mc16_13TeV:mc16_13TeV.363358.Sherpa_221_NNPDF3...</td>\n",
       "      <td>CERN-PROD</td>\n",
       "      <td>5.388923e+11</td>\n",
       "    </tr>\n",
       "    <tr>\n",
       "      <th>...</th>\n",
       "      <td>...</td>\n",
       "      <td>...</td>\n",
       "      <td>...</td>\n",
       "    </tr>\n",
       "    <tr>\n",
       "      <th>709487</th>\n",
       "      <td>data16_13TeV:data16_13TeV.00298771.physics_Mai...</td>\n",
       "      <td>BNL-ATLAS</td>\n",
       "      <td>1.010669e+10</td>\n",
       "    </tr>\n",
       "    <tr>\n",
       "      <th>709548</th>\n",
       "      <td>mc16_13TeV:mc16_13TeV.364116.Sherpa_221_NNPDF3...</td>\n",
       "      <td>BU_ATLAS_Tier2</td>\n",
       "      <td>5.161093e+10</td>\n",
       "    </tr>\n",
       "    <tr>\n",
       "      <th>709623</th>\n",
       "      <td>mc16_13TeV:mc16_13TeV.451868.MadGraphPythia8Ev...</td>\n",
       "      <td>INFN-T1</td>\n",
       "      <td>5.671346e+09</td>\n",
       "    </tr>\n",
       "    <tr>\n",
       "      <th>709624</th>\n",
       "      <td>mc16_13TeV:mc16_13TeV.364105.Sherpa_221_NNPDF3...</td>\n",
       "      <td>GoeGrid</td>\n",
       "      <td>6.363188e+10</td>\n",
       "    </tr>\n",
       "    <tr>\n",
       "      <th>709624</th>\n",
       "      <td>mc16_13TeV:mc16_13TeV.364105.Sherpa_221_NNPDF3...</td>\n",
       "      <td>MWT2</td>\n",
       "      <td>6.363188e+10</td>\n",
       "    </tr>\n",
       "  </tbody>\n",
       "</table>\n",
       "<p>214316 rows × 3 columns</p>\n",
       "</div>"
      ],
      "text/plain": [
       "                                              datasetname  \\\n",
       "1       mc16_13TeV:mc16_13TeV.364204.Sherpa_221_NN30NN...   \n",
       "2       mc16_13TeV:mc16_13TeV.364204.Sherpa_221_NN30NN...   \n",
       "2       mc16_13TeV:mc16_13TeV.364204.Sherpa_221_NN30NN...   \n",
       "3       mc16_13TeV:mc16_13TeV.363358.Sherpa_221_NNPDF3...   \n",
       "4       mc16_13TeV:mc16_13TeV.363358.Sherpa_221_NNPDF3...   \n",
       "...                                                   ...   \n",
       "709487  data16_13TeV:data16_13TeV.00298771.physics_Mai...   \n",
       "709548  mc16_13TeV:mc16_13TeV.364116.Sherpa_221_NNPDF3...   \n",
       "709623  mc16_13TeV:mc16_13TeV.451868.MadGraphPythia8Ev...   \n",
       "709624  mc16_13TeV:mc16_13TeV.364105.Sherpa_221_NNPDF3...   \n",
       "709624  mc16_13TeV:mc16_13TeV.364105.Sherpa_221_NNPDF3...   \n",
       "\n",
       "              ds_replicas_sites      ds_bytes  \n",
       "1                     BNL-ATLAS  2.276295e+11  \n",
       "2                     RRC-KI-T1  1.813067e+11  \n",
       "2       UKI-NORTHGRID-LANCS-HEP  1.813067e+11  \n",
       "3                          MWT2  2.686136e+11  \n",
       "4                     CERN-PROD  5.388923e+11  \n",
       "...                         ...           ...  \n",
       "709487                BNL-ATLAS  1.010669e+10  \n",
       "709548           BU_ATLAS_Tier2  5.161093e+10  \n",
       "709623                  INFN-T1  5.671346e+09  \n",
       "709624                  GoeGrid  6.363188e+10  \n",
       "709624                     MWT2  6.363188e+10  \n",
       "\n",
       "[214316 rows x 3 columns]"
      ]
     },
     "execution_count": 164,
     "metadata": {},
     "output_type": "execute_result"
    }
   ],
   "source": [
    "data"
   ]
  },
  {
   "cell_type": "code",
   "execution_count": 165,
   "metadata": {},
   "outputs": [],
   "source": [
    "totals = data.groupby(['ds_replicas_sites','datasetname'])['ds_bytes'].sum()"
   ]
  },
  {
   "cell_type": "code",
   "execution_count": 166,
   "metadata": {},
   "outputs": [],
   "source": [
    "totals = totals.reset_index()"
   ]
  },
  {
   "cell_type": "code",
   "execution_count": 167,
   "metadata": {},
   "outputs": [
    {
     "data": {
      "text/html": [
       "<div>\n",
       "<style scoped>\n",
       "    .dataframe tbody tr th:only-of-type {\n",
       "        vertical-align: middle;\n",
       "    }\n",
       "\n",
       "    .dataframe tbody tr th {\n",
       "        vertical-align: top;\n",
       "    }\n",
       "\n",
       "    .dataframe thead th {\n",
       "        text-align: right;\n",
       "    }\n",
       "</style>\n",
       "<table border=\"1\" class=\"dataframe\">\n",
       "  <thead>\n",
       "    <tr style=\"text-align: right;\">\n",
       "      <th></th>\n",
       "      <th>ds_replicas_sites</th>\n",
       "      <th>datasetname</th>\n",
       "      <th>ds_bytes</th>\n",
       "    </tr>\n",
       "  </thead>\n",
       "  <tbody>\n",
       "    <tr>\n",
       "      <th>0</th>\n",
       "      <td>AGLT2</td>\n",
       "      <td>data15_13TeV:data15_13TeV.00266904.physics_Mai...</td>\n",
       "      <td>7.147956e+06</td>\n",
       "    </tr>\n",
       "    <tr>\n",
       "      <th>1</th>\n",
       "      <td>AGLT2</td>\n",
       "      <td>data15_13TeV:data15_13TeV.00267162.physics_Mai...</td>\n",
       "      <td>2.782699e+07</td>\n",
       "    </tr>\n",
       "    <tr>\n",
       "      <th>2</th>\n",
       "      <td>AGLT2</td>\n",
       "      <td>data15_13TeV:data15_13TeV.00267167.debugrec_hl...</td>\n",
       "      <td>2.343370e+05</td>\n",
       "    </tr>\n",
       "    <tr>\n",
       "      <th>3</th>\n",
       "      <td>AGLT2</td>\n",
       "      <td>data15_13TeV:data15_13TeV.00267167.physics_Mai...</td>\n",
       "      <td>1.788754e+07</td>\n",
       "    </tr>\n",
       "    <tr>\n",
       "      <th>4</th>\n",
       "      <td>AGLT2</td>\n",
       "      <td>data15_13TeV:data15_13TeV.00267639.physics_Mai...</td>\n",
       "      <td>1.048991e+09</td>\n",
       "    </tr>\n",
       "    <tr>\n",
       "      <th>...</th>\n",
       "      <td>...</td>\n",
       "      <td>...</td>\n",
       "      <td>...</td>\n",
       "    </tr>\n",
       "    <tr>\n",
       "      <th>152729</th>\n",
       "      <td>wuppertalprod</td>\n",
       "      <td>mc16_13TeV:mc16_13TeV.700141.Sh_2210_Znunu_Enh...</td>\n",
       "      <td>1.930378e+11</td>\n",
       "    </tr>\n",
       "    <tr>\n",
       "      <th>152730</th>\n",
       "      <td>wuppertalprod</td>\n",
       "      <td>mc16_13TeV:mc16_13TeV.700141.Sh_2210_Znunu_Enh...</td>\n",
       "      <td>3.010459e+11</td>\n",
       "    </tr>\n",
       "    <tr>\n",
       "      <th>152731</th>\n",
       "      <td>wuppertalprod</td>\n",
       "      <td>mc16_13TeV:mc16_13TeV.700141.Sh_2210_Znunu_Enh...</td>\n",
       "      <td>2.366698e+09</td>\n",
       "    </tr>\n",
       "    <tr>\n",
       "      <th>152732</th>\n",
       "      <td>wuppertalprod</td>\n",
       "      <td>mc16_13TeV:mc16_13TeV.700148.Sh_2210_Wmunu_Enh...</td>\n",
       "      <td>3.765597e+11</td>\n",
       "    </tr>\n",
       "    <tr>\n",
       "      <th>152733</th>\n",
       "      <td>wuppertalprod</td>\n",
       "      <td>mc16_13TeV:mc16_13TeV.800710.Py8EG_sym_m_50_gg...</td>\n",
       "      <td>4.531120e+09</td>\n",
       "    </tr>\n",
       "  </tbody>\n",
       "</table>\n",
       "<p>152734 rows × 3 columns</p>\n",
       "</div>"
      ],
      "text/plain": [
       "       ds_replicas_sites                                        datasetname  \\\n",
       "0                  AGLT2  data15_13TeV:data15_13TeV.00266904.physics_Mai...   \n",
       "1                  AGLT2  data15_13TeV:data15_13TeV.00267162.physics_Mai...   \n",
       "2                  AGLT2  data15_13TeV:data15_13TeV.00267167.debugrec_hl...   \n",
       "3                  AGLT2  data15_13TeV:data15_13TeV.00267167.physics_Mai...   \n",
       "4                  AGLT2  data15_13TeV:data15_13TeV.00267639.physics_Mai...   \n",
       "...                  ...                                                ...   \n",
       "152729     wuppertalprod  mc16_13TeV:mc16_13TeV.700141.Sh_2210_Znunu_Enh...   \n",
       "152730     wuppertalprod  mc16_13TeV:mc16_13TeV.700141.Sh_2210_Znunu_Enh...   \n",
       "152731     wuppertalprod  mc16_13TeV:mc16_13TeV.700141.Sh_2210_Znunu_Enh...   \n",
       "152732     wuppertalprod  mc16_13TeV:mc16_13TeV.700148.Sh_2210_Wmunu_Enh...   \n",
       "152733     wuppertalprod  mc16_13TeV:mc16_13TeV.800710.Py8EG_sym_m_50_gg...   \n",
       "\n",
       "            ds_bytes  \n",
       "0       7.147956e+06  \n",
       "1       2.782699e+07  \n",
       "2       2.343370e+05  \n",
       "3       1.788754e+07  \n",
       "4       1.048991e+09  \n",
       "...              ...  \n",
       "152729  1.930378e+11  \n",
       "152730  3.010459e+11  \n",
       "152731  2.366698e+09  \n",
       "152732  3.765597e+11  \n",
       "152733  4.531120e+09  \n",
       "\n",
       "[152734 rows x 3 columns]"
      ]
     },
     "execution_count": 167,
     "metadata": {},
     "output_type": "execute_result"
    }
   ],
   "source": [
    "totals"
   ]
  },
  {
   "cell_type": "code",
   "execution_count": 168,
   "metadata": {},
   "outputs": [],
   "source": [
    "totals = totals.groupby('ds_replicas_sites').apply(lambda x: pd.Series({\n",
    "        'n_replicas': x['datasetname'].count(),\n",
    "        'replicas_volume': x['ds_bytes'].sum()}))"
   ]
  },
  {
   "cell_type": "code",
   "execution_count": 170,
   "metadata": {},
   "outputs": [],
   "source": [
    "totals = totals.sort_values(by='n_replicas', ascending=False)"
   ]
  },
  {
   "cell_type": "code",
   "execution_count": 171,
   "metadata": {},
   "outputs": [
    {
     "data": {
      "text/html": [
       "<div>\n",
       "<style scoped>\n",
       "    .dataframe tbody tr th:only-of-type {\n",
       "        vertical-align: middle;\n",
       "    }\n",
       "\n",
       "    .dataframe tbody tr th {\n",
       "        vertical-align: top;\n",
       "    }\n",
       "\n",
       "    .dataframe thead th {\n",
       "        text-align: right;\n",
       "    }\n",
       "</style>\n",
       "<table border=\"1\" class=\"dataframe\">\n",
       "  <thead>\n",
       "    <tr style=\"text-align: right;\">\n",
       "      <th></th>\n",
       "      <th>n_replicas</th>\n",
       "      <th>replicas_volume</th>\n",
       "    </tr>\n",
       "    <tr>\n",
       "      <th>ds_replicas_sites</th>\n",
       "      <th></th>\n",
       "      <th></th>\n",
       "    </tr>\n",
       "  </thead>\n",
       "  <tbody>\n",
       "    <tr>\n",
       "      <th>BNL-ATLAS</th>\n",
       "      <td>15205.0</td>\n",
       "      <td>3.534912e+15</td>\n",
       "    </tr>\n",
       "    <tr>\n",
       "      <th>CERN-PROD</th>\n",
       "      <td>13267.0</td>\n",
       "      <td>2.876935e+15</td>\n",
       "    </tr>\n",
       "    <tr>\n",
       "      <th>RAL-LCG2</th>\n",
       "      <td>9842.0</td>\n",
       "      <td>1.975262e+15</td>\n",
       "    </tr>\n",
       "    <tr>\n",
       "      <th>MWT2</th>\n",
       "      <td>7658.0</td>\n",
       "      <td>1.652395e+15</td>\n",
       "    </tr>\n",
       "    <tr>\n",
       "      <th>FZK-LCG2</th>\n",
       "      <td>6286.0</td>\n",
       "      <td>1.516975e+15</td>\n",
       "    </tr>\n",
       "    <tr>\n",
       "      <th>...</th>\n",
       "      <td>...</td>\n",
       "      <td>...</td>\n",
       "    </tr>\n",
       "    <tr>\n",
       "      <th>INFN-GENOVA</th>\n",
       "      <td>1.0</td>\n",
       "      <td>2.109393e+11</td>\n",
       "    </tr>\n",
       "    <tr>\n",
       "      <th>INFN-COSENZA</th>\n",
       "      <td>1.0</td>\n",
       "      <td>2.109393e+11</td>\n",
       "    </tr>\n",
       "    <tr>\n",
       "      <th>IN2P3-CC_DATALAKE</th>\n",
       "      <td>1.0</td>\n",
       "      <td>1.093679e+12</td>\n",
       "    </tr>\n",
       "    <tr>\n",
       "      <th>INFN-ROMA3</th>\n",
       "      <td>1.0</td>\n",
       "      <td>1.390232e+11</td>\n",
       "    </tr>\n",
       "    <tr>\n",
       "      <th>FR-ALPAMED</th>\n",
       "      <td>1.0</td>\n",
       "      <td>1.093679e+12</td>\n",
       "    </tr>\n",
       "  </tbody>\n",
       "</table>\n",
       "<p>82 rows × 2 columns</p>\n",
       "</div>"
      ],
      "text/plain": [
       "                   n_replicas  replicas_volume\n",
       "ds_replicas_sites                             \n",
       "BNL-ATLAS             15205.0     3.534912e+15\n",
       "CERN-PROD             13267.0     2.876935e+15\n",
       "RAL-LCG2               9842.0     1.975262e+15\n",
       "MWT2                   7658.0     1.652395e+15\n",
       "FZK-LCG2               6286.0     1.516975e+15\n",
       "...                       ...              ...\n",
       "INFN-GENOVA               1.0     2.109393e+11\n",
       "INFN-COSENZA              1.0     2.109393e+11\n",
       "IN2P3-CC_DATALAKE         1.0     1.093679e+12\n",
       "INFN-ROMA3                1.0     1.390232e+11\n",
       "FR-ALPAMED                1.0     1.093679e+12\n",
       "\n",
       "[82 rows x 2 columns]"
      ]
     },
     "execution_count": 171,
     "metadata": {},
     "output_type": "execute_result"
    }
   ],
   "source": [
    "totals"
   ]
  },
  {
   "cell_type": "code",
   "execution_count": 172,
   "metadata": {},
   "outputs": [],
   "source": [
    "new_data = filtered[['site_name','datasetname','jobs_primary_input_fsize']]"
   ]
  },
  {
   "cell_type": "code",
   "execution_count": 173,
   "metadata": {},
   "outputs": [],
   "source": [
    "new_data = new_data.drop_duplicates()"
   ]
  },
  {
   "cell_type": "code",
   "execution_count": 174,
   "metadata": {},
   "outputs": [
    {
     "data": {
      "text/plain": [
       "(224795, 3)"
      ]
     },
     "execution_count": 174,
     "metadata": {},
     "output_type": "execute_result"
    }
   ],
   "source": [
    "new_data.shape"
   ]
  },
  {
   "cell_type": "code",
   "execution_count": 175,
   "metadata": {},
   "outputs": [],
   "source": [
    "totals_1 = new_data.groupby(['site_name','datasetname'])['jobs_primary_input_fsize'].sum()"
   ]
  },
  {
   "cell_type": "code",
   "execution_count": 176,
   "metadata": {},
   "outputs": [],
   "source": [
    "totals_1 = totals_1.reset_index()"
   ]
  },
  {
   "cell_type": "code",
   "execution_count": 177,
   "metadata": {},
   "outputs": [
    {
     "data": {
      "text/html": [
       "<div>\n",
       "<style scoped>\n",
       "    .dataframe tbody tr th:only-of-type {\n",
       "        vertical-align: middle;\n",
       "    }\n",
       "\n",
       "    .dataframe tbody tr th {\n",
       "        vertical-align: top;\n",
       "    }\n",
       "\n",
       "    .dataframe thead th {\n",
       "        text-align: right;\n",
       "    }\n",
       "</style>\n",
       "<table border=\"1\" class=\"dataframe\">\n",
       "  <thead>\n",
       "    <tr style=\"text-align: right;\">\n",
       "      <th></th>\n",
       "      <th>site_name</th>\n",
       "      <th>datasetname</th>\n",
       "      <th>jobs_primary_input_fsize</th>\n",
       "    </tr>\n",
       "  </thead>\n",
       "  <tbody>\n",
       "    <tr>\n",
       "      <th>0</th>\n",
       "      <td>AGLT2</td>\n",
       "      <td>data15_13TeV:data15_13TeV.00266904.physics_Mai...</td>\n",
       "      <td>7147956</td>\n",
       "    </tr>\n",
       "    <tr>\n",
       "      <th>1</th>\n",
       "      <td>AGLT2</td>\n",
       "      <td>data15_13TeV:data15_13TeV.00267073.physics_Mai...</td>\n",
       "      <td>11434880</td>\n",
       "    </tr>\n",
       "    <tr>\n",
       "      <th>2</th>\n",
       "      <td>AGLT2</td>\n",
       "      <td>data15_13TeV:data15_13TeV.00267152.debugrec_hl...</td>\n",
       "      <td>287603</td>\n",
       "    </tr>\n",
       "    <tr>\n",
       "      <th>3</th>\n",
       "      <td>AGLT2</td>\n",
       "      <td>data15_13TeV:data15_13TeV.00267167.debugrec_hl...</td>\n",
       "      <td>234337</td>\n",
       "    </tr>\n",
       "    <tr>\n",
       "      <th>4</th>\n",
       "      <td>AGLT2</td>\n",
       "      <td>data15_13TeV:data15_13TeV.00267639.physics_Mai...</td>\n",
       "      <td>1913040663</td>\n",
       "    </tr>\n",
       "    <tr>\n",
       "      <th>...</th>\n",
       "      <td>...</td>\n",
       "      <td>...</td>\n",
       "      <td>...</td>\n",
       "    </tr>\n",
       "    <tr>\n",
       "      <th>151597</th>\n",
       "      <td>wuppertalprod</td>\n",
       "      <td>mc16_13TeV:mc16_13TeV.600111.PhPy8EG_asymc_m1_...</td>\n",
       "      <td>53810993958</td>\n",
       "    </tr>\n",
       "    <tr>\n",
       "      <th>151598</th>\n",
       "      <td>wuppertalprod</td>\n",
       "      <td>mc16_13TeV:mc16_13TeV.600309.PhH7EG_Wenu_minus...</td>\n",
       "      <td>2663031152</td>\n",
       "    </tr>\n",
       "    <tr>\n",
       "      <th>151599</th>\n",
       "      <td>wuppertalprod</td>\n",
       "      <td>mc16_13TeV:mc16_13TeV.600325.PhH7EG_Wenu_minus...</td>\n",
       "      <td>2590265099</td>\n",
       "    </tr>\n",
       "    <tr>\n",
       "      <th>151600</th>\n",
       "      <td>wuppertalprod</td>\n",
       "      <td>mc16_13TeV:mc16_13TeV.700016.Sh_228_mvgamma_pt...</td>\n",
       "      <td>594835267200</td>\n",
       "    </tr>\n",
       "    <tr>\n",
       "      <th>151601</th>\n",
       "      <td>wuppertalprod</td>\n",
       "      <td>mc16_13TeV:mc16_13TeV.700017.Sh_228_tvgamma_pt...</td>\n",
       "      <td>2769136310</td>\n",
       "    </tr>\n",
       "  </tbody>\n",
       "</table>\n",
       "<p>151602 rows × 3 columns</p>\n",
       "</div>"
      ],
      "text/plain": [
       "            site_name                                        datasetname  \\\n",
       "0               AGLT2  data15_13TeV:data15_13TeV.00266904.physics_Mai...   \n",
       "1               AGLT2  data15_13TeV:data15_13TeV.00267073.physics_Mai...   \n",
       "2               AGLT2  data15_13TeV:data15_13TeV.00267152.debugrec_hl...   \n",
       "3               AGLT2  data15_13TeV:data15_13TeV.00267167.debugrec_hl...   \n",
       "4               AGLT2  data15_13TeV:data15_13TeV.00267639.physics_Mai...   \n",
       "...               ...                                                ...   \n",
       "151597  wuppertalprod  mc16_13TeV:mc16_13TeV.600111.PhPy8EG_asymc_m1_...   \n",
       "151598  wuppertalprod  mc16_13TeV:mc16_13TeV.600309.PhH7EG_Wenu_minus...   \n",
       "151599  wuppertalprod  mc16_13TeV:mc16_13TeV.600325.PhH7EG_Wenu_minus...   \n",
       "151600  wuppertalprod  mc16_13TeV:mc16_13TeV.700016.Sh_228_mvgamma_pt...   \n",
       "151601  wuppertalprod  mc16_13TeV:mc16_13TeV.700017.Sh_228_tvgamma_pt...   \n",
       "\n",
       "        jobs_primary_input_fsize  \n",
       "0                        7147956  \n",
       "1                       11434880  \n",
       "2                         287603  \n",
       "3                         234337  \n",
       "4                     1913040663  \n",
       "...                          ...  \n",
       "151597               53810993958  \n",
       "151598                2663031152  \n",
       "151599                2590265099  \n",
       "151600              594835267200  \n",
       "151601                2769136310  \n",
       "\n",
       "[151602 rows x 3 columns]"
      ]
     },
     "execution_count": 177,
     "metadata": {},
     "output_type": "execute_result"
    }
   ],
   "source": [
    "totals_1"
   ]
  },
  {
   "cell_type": "code",
   "execution_count": 178,
   "metadata": {},
   "outputs": [],
   "source": [
    "def my_agg_1(x):\n",
    "    names = {\n",
    "        'n_datasets': x['datasetname'].nunique(),\n",
    "        'processed_data_volume': x['jobs_primary_input_fsize'].sum()}\n",
    "\n",
    "    return pd.Series(names)"
   ]
  },
  {
   "cell_type": "code",
   "execution_count": 179,
   "metadata": {},
   "outputs": [],
   "source": [
    "totals_1 = totals_1.groupby('site_name').apply(my_agg_1)"
   ]
  },
  {
   "cell_type": "code",
   "execution_count": 181,
   "metadata": {},
   "outputs": [],
   "source": [
    "totals_1 = totals_1.sort_values(by='n_datasets', ascending=False)"
   ]
  },
  {
   "cell_type": "code",
   "execution_count": 182,
   "metadata": {},
   "outputs": [
    {
     "data": {
      "text/html": [
       "<div>\n",
       "<style scoped>\n",
       "    .dataframe tbody tr th:only-of-type {\n",
       "        vertical-align: middle;\n",
       "    }\n",
       "\n",
       "    .dataframe tbody tr th {\n",
       "        vertical-align: top;\n",
       "    }\n",
       "\n",
       "    .dataframe thead th {\n",
       "        text-align: right;\n",
       "    }\n",
       "</style>\n",
       "<table border=\"1\" class=\"dataframe\">\n",
       "  <thead>\n",
       "    <tr style=\"text-align: right;\">\n",
       "      <th></th>\n",
       "      <th>n_datasets</th>\n",
       "      <th>processed_data_volume</th>\n",
       "    </tr>\n",
       "    <tr>\n",
       "      <th>site_name</th>\n",
       "      <th></th>\n",
       "      <th></th>\n",
       "    </tr>\n",
       "  </thead>\n",
       "  <tbody>\n",
       "    <tr>\n",
       "      <th>BNL-ATLAS</th>\n",
       "      <td>17398</td>\n",
       "      <td>5906329625134610</td>\n",
       "    </tr>\n",
       "    <tr>\n",
       "      <th>CERN-PROD</th>\n",
       "      <td>14454</td>\n",
       "      <td>6161986353716363</td>\n",
       "    </tr>\n",
       "    <tr>\n",
       "      <th>MWT2</th>\n",
       "      <td>10249</td>\n",
       "      <td>2873331124347378</td>\n",
       "    </tr>\n",
       "    <tr>\n",
       "      <th>RAL-LCG2</th>\n",
       "      <td>7288</td>\n",
       "      <td>1670166540951547</td>\n",
       "    </tr>\n",
       "    <tr>\n",
       "      <th>FZK-LCG2</th>\n",
       "      <td>6954</td>\n",
       "      <td>1738928540594238</td>\n",
       "    </tr>\n",
       "    <tr>\n",
       "      <th>...</th>\n",
       "      <td>...</td>\n",
       "      <td>...</td>\n",
       "    </tr>\n",
       "    <tr>\n",
       "      <th>EELA-UTFSM</th>\n",
       "      <td>68</td>\n",
       "      <td>3066115852005</td>\n",
       "    </tr>\n",
       "    <tr>\n",
       "      <th>NCG-INGRID-PT</th>\n",
       "      <td>15</td>\n",
       "      <td>3081818358163</td>\n",
       "    </tr>\n",
       "    <tr>\n",
       "      <th>INFN-COSENZA</th>\n",
       "      <td>3</td>\n",
       "      <td>304522861673</td>\n",
       "    </tr>\n",
       "    <tr>\n",
       "      <th>INFN-ROMA3</th>\n",
       "      <td>2</td>\n",
       "      <td>14348051571</td>\n",
       "    </tr>\n",
       "    <tr>\n",
       "      <th>INFN-LECCE</th>\n",
       "      <td>1</td>\n",
       "      <td>764845079789</td>\n",
       "    </tr>\n",
       "  </tbody>\n",
       "</table>\n",
       "<p>72 rows × 2 columns</p>\n",
       "</div>"
      ],
      "text/plain": [
       "               n_datasets  processed_data_volume\n",
       "site_name                                       \n",
       "BNL-ATLAS           17398       5906329625134610\n",
       "CERN-PROD           14454       6161986353716363\n",
       "MWT2                10249       2873331124347378\n",
       "RAL-LCG2             7288       1670166540951547\n",
       "FZK-LCG2             6954       1738928540594238\n",
       "...                   ...                    ...\n",
       "EELA-UTFSM             68          3066115852005\n",
       "NCG-INGRID-PT          15          3081818358163\n",
       "INFN-COSENZA            3           304522861673\n",
       "INFN-ROMA3              2            14348051571\n",
       "INFN-LECCE              1           764845079789\n",
       "\n",
       "[72 rows x 2 columns]"
      ]
     },
     "execution_count": 182,
     "metadata": {},
     "output_type": "execute_result"
    }
   ],
   "source": [
    "totals_1"
   ]
  },
  {
   "cell_type": "code",
   "execution_count": 192,
   "metadata": {},
   "outputs": [],
   "source": [
    "totals_all = totals.join(totals_1)"
   ]
  },
  {
   "cell_type": "code",
   "execution_count": 193,
   "metadata": {},
   "outputs": [],
   "source": [
    "totals_all['replicas_volume'] = totals_all['replicas_volume']/1000000000000\n",
    "totals_all['processed_data_volume'] = totals_all['processed_data_volume']/1000000000000"
   ]
  },
  {
   "cell_type": "code",
   "execution_count": 194,
   "metadata": {},
   "outputs": [
    {
     "data": {
      "text/html": [
       "<div>\n",
       "<style scoped>\n",
       "    .dataframe tbody tr th:only-of-type {\n",
       "        vertical-align: middle;\n",
       "    }\n",
       "\n",
       "    .dataframe tbody tr th {\n",
       "        vertical-align: top;\n",
       "    }\n",
       "\n",
       "    .dataframe thead th {\n",
       "        text-align: right;\n",
       "    }\n",
       "</style>\n",
       "<table border=\"1\" class=\"dataframe\">\n",
       "  <thead>\n",
       "    <tr style=\"text-align: right;\">\n",
       "      <th></th>\n",
       "      <th>n_replicas</th>\n",
       "      <th>replicas_volume</th>\n",
       "      <th>n_datasets</th>\n",
       "      <th>processed_data_volume</th>\n",
       "    </tr>\n",
       "    <tr>\n",
       "      <th>ds_replicas_sites</th>\n",
       "      <th></th>\n",
       "      <th></th>\n",
       "      <th></th>\n",
       "      <th></th>\n",
       "    </tr>\n",
       "  </thead>\n",
       "  <tbody>\n",
       "    <tr>\n",
       "      <th>BNL-ATLAS</th>\n",
       "      <td>15205.0</td>\n",
       "      <td>3534.911860</td>\n",
       "      <td>17398.0</td>\n",
       "      <td>5906.329625</td>\n",
       "    </tr>\n",
       "    <tr>\n",
       "      <th>CERN-PROD</th>\n",
       "      <td>13267.0</td>\n",
       "      <td>2876.934759</td>\n",
       "      <td>14454.0</td>\n",
       "      <td>6161.986354</td>\n",
       "    </tr>\n",
       "    <tr>\n",
       "      <th>RAL-LCG2</th>\n",
       "      <td>9842.0</td>\n",
       "      <td>1975.262235</td>\n",
       "      <td>7288.0</td>\n",
       "      <td>1670.166541</td>\n",
       "    </tr>\n",
       "    <tr>\n",
       "      <th>MWT2</th>\n",
       "      <td>7658.0</td>\n",
       "      <td>1652.394889</td>\n",
       "      <td>10249.0</td>\n",
       "      <td>2873.331124</td>\n",
       "    </tr>\n",
       "    <tr>\n",
       "      <th>FZK-LCG2</th>\n",
       "      <td>6286.0</td>\n",
       "      <td>1516.974601</td>\n",
       "      <td>6954.0</td>\n",
       "      <td>1738.928541</td>\n",
       "    </tr>\n",
       "    <tr>\n",
       "      <th>NDGF-T1</th>\n",
       "      <td>6006.0</td>\n",
       "      <td>1272.226708</td>\n",
       "      <td>3206.0</td>\n",
       "      <td>506.301935</td>\n",
       "    </tr>\n",
       "    <tr>\n",
       "      <th>AGLT2</th>\n",
       "      <td>5073.0</td>\n",
       "      <td>1117.105389</td>\n",
       "      <td>6506.0</td>\n",
       "      <td>1572.773445</td>\n",
       "    </tr>\n",
       "    <tr>\n",
       "      <th>TRIUMF-LCG2</th>\n",
       "      <td>4883.0</td>\n",
       "      <td>1295.203105</td>\n",
       "      <td>4555.0</td>\n",
       "      <td>1181.533520</td>\n",
       "    </tr>\n",
       "    <tr>\n",
       "      <th>IN2P3-CC</th>\n",
       "      <td>4814.0</td>\n",
       "      <td>1151.617813</td>\n",
       "      <td>6023.0</td>\n",
       "      <td>1307.778866</td>\n",
       "    </tr>\n",
       "    <tr>\n",
       "      <th>TOKYO-LCG2</th>\n",
       "      <td>4694.0</td>\n",
       "      <td>997.557519</td>\n",
       "      <td>5370.0</td>\n",
       "      <td>1014.058323</td>\n",
       "    </tr>\n",
       "    <tr>\n",
       "      <th>INFN-T1</th>\n",
       "      <td>4687.0</td>\n",
       "      <td>1102.036560</td>\n",
       "      <td>2851.0</td>\n",
       "      <td>552.622722</td>\n",
       "    </tr>\n",
       "    <tr>\n",
       "      <th>Taiwan-LCG2</th>\n",
       "      <td>4622.0</td>\n",
       "      <td>871.710700</td>\n",
       "      <td>NaN</td>\n",
       "      <td>NaN</td>\n",
       "    </tr>\n",
       "    <tr>\n",
       "      <th>BU_NESE</th>\n",
       "      <td>3655.0</td>\n",
       "      <td>902.749118</td>\n",
       "      <td>NaN</td>\n",
       "      <td>NaN</td>\n",
       "    </tr>\n",
       "    <tr>\n",
       "      <th>SWT2_CPB</th>\n",
       "      <td>3610.0</td>\n",
       "      <td>740.133721</td>\n",
       "      <td>3172.0</td>\n",
       "      <td>501.224805</td>\n",
       "    </tr>\n",
       "    <tr>\n",
       "      <th>RRC-KI-T1</th>\n",
       "      <td>3505.0</td>\n",
       "      <td>769.000335</td>\n",
       "      <td>2366.0</td>\n",
       "      <td>479.808599</td>\n",
       "    </tr>\n",
       "    <tr>\n",
       "      <th>DESY-HH</th>\n",
       "      <td>3408.0</td>\n",
       "      <td>584.378217</td>\n",
       "      <td>2375.0</td>\n",
       "      <td>301.713801</td>\n",
       "    </tr>\n",
       "    <tr>\n",
       "      <th>CA-SFU-T2</th>\n",
       "      <td>2841.0</td>\n",
       "      <td>762.656228</td>\n",
       "      <td>1893.0</td>\n",
       "      <td>607.077586</td>\n",
       "    </tr>\n",
       "    <tr>\n",
       "      <th>BU_ATLAS_Tier2</th>\n",
       "      <td>2550.0</td>\n",
       "      <td>508.051616</td>\n",
       "      <td>4958.0</td>\n",
       "      <td>848.873779</td>\n",
       "    </tr>\n",
       "    <tr>\n",
       "      <th>GoeGrid</th>\n",
       "      <td>2028.0</td>\n",
       "      <td>460.448180</td>\n",
       "      <td>1441.0</td>\n",
       "      <td>331.668501</td>\n",
       "    </tr>\n",
       "    <tr>\n",
       "      <th>RO-07-NIPNE</th>\n",
       "      <td>1941.0</td>\n",
       "      <td>441.600478</td>\n",
       "      <td>1488.0</td>\n",
       "      <td>307.329693</td>\n",
       "    </tr>\n",
       "    <tr>\n",
       "      <th>UKI-LT2-QMUL</th>\n",
       "      <td>1761.0</td>\n",
       "      <td>328.419526</td>\n",
       "      <td>1908.0</td>\n",
       "      <td>314.926646</td>\n",
       "    </tr>\n",
       "    <tr>\n",
       "      <th>UKI-NORTHGRID-MAN-HEP</th>\n",
       "      <td>1680.0</td>\n",
       "      <td>525.757833</td>\n",
       "      <td>2020.0</td>\n",
       "      <td>825.479032</td>\n",
       "    </tr>\n",
       "    <tr>\n",
       "      <th>IN2P3-LAPP</th>\n",
       "      <td>1679.0</td>\n",
       "      <td>323.372420</td>\n",
       "      <td>1934.0</td>\n",
       "      <td>464.388356</td>\n",
       "    </tr>\n",
       "    <tr>\n",
       "      <th>UKI-NORTHGRID-LANCS-HEP</th>\n",
       "      <td>1589.0</td>\n",
       "      <td>360.902546</td>\n",
       "      <td>1038.0</td>\n",
       "      <td>207.815137</td>\n",
       "    </tr>\n",
       "    <tr>\n",
       "      <th>CA-WATERLOO-T2</th>\n",
       "      <td>1548.0</td>\n",
       "      <td>361.917062</td>\n",
       "      <td>638.0</td>\n",
       "      <td>118.723617</td>\n",
       "    </tr>\n",
       "    <tr>\n",
       "      <th>IFIC-LCG2</th>\n",
       "      <td>1495.0</td>\n",
       "      <td>225.622911</td>\n",
       "      <td>1414.0</td>\n",
       "      <td>240.311924</td>\n",
       "    </tr>\n",
       "    <tr>\n",
       "      <th>pic</th>\n",
       "      <td>1395.0</td>\n",
       "      <td>354.796778</td>\n",
       "      <td>969.0</td>\n",
       "      <td>209.386754</td>\n",
       "    </tr>\n",
       "    <tr>\n",
       "      <th>IN2P3-LPC</th>\n",
       "      <td>1378.0</td>\n",
       "      <td>214.967545</td>\n",
       "      <td>1571.0</td>\n",
       "      <td>278.677601</td>\n",
       "    </tr>\n",
       "    <tr>\n",
       "      <th>TECHNION-HEP</th>\n",
       "      <td>1351.0</td>\n",
       "      <td>329.664823</td>\n",
       "      <td>1330.0</td>\n",
       "      <td>348.738552</td>\n",
       "    </tr>\n",
       "    <tr>\n",
       "      <th>IN2P3-CPPM</th>\n",
       "      <td>1309.0</td>\n",
       "      <td>260.122077</td>\n",
       "      <td>1589.0</td>\n",
       "      <td>250.503675</td>\n",
       "    </tr>\n",
       "    <tr>\n",
       "      <th>SARA-MATRIX</th>\n",
       "      <td>1226.0</td>\n",
       "      <td>418.404569</td>\n",
       "      <td>1365.0</td>\n",
       "      <td>270.111845</td>\n",
       "    </tr>\n",
       "    <tr>\n",
       "      <th>DESY-ZN</th>\n",
       "      <td>1223.0</td>\n",
       "      <td>215.032214</td>\n",
       "      <td>1827.0</td>\n",
       "      <td>336.150243</td>\n",
       "    </tr>\n",
       "    <tr>\n",
       "      <th>INFN-NAPOLI-ATLAS</th>\n",
       "      <td>1201.0</td>\n",
       "      <td>222.457062</td>\n",
       "      <td>859.0</td>\n",
       "      <td>165.636656</td>\n",
       "    </tr>\n",
       "    <tr>\n",
       "      <th>INFN-FRASCATI</th>\n",
       "      <td>1161.0</td>\n",
       "      <td>283.618721</td>\n",
       "      <td>807.0</td>\n",
       "      <td>168.991801</td>\n",
       "    </tr>\n",
       "    <tr>\n",
       "      <th>GRIF-IRFU</th>\n",
       "      <td>1110.0</td>\n",
       "      <td>169.732081</td>\n",
       "      <td>1250.0</td>\n",
       "      <td>189.649831</td>\n",
       "    </tr>\n",
       "    <tr>\n",
       "      <th>UNI-FREIBURG</th>\n",
       "      <td>1109.0</td>\n",
       "      <td>180.975869</td>\n",
       "      <td>1231.0</td>\n",
       "      <td>222.779487</td>\n",
       "    </tr>\n",
       "    <tr>\n",
       "      <th>CSCS-LCG2</th>\n",
       "      <td>1102.0</td>\n",
       "      <td>214.876191</td>\n",
       "      <td>930.0</td>\n",
       "      <td>171.969032</td>\n",
       "    </tr>\n",
       "    <tr>\n",
       "      <th>Australia-ATLAS</th>\n",
       "      <td>1056.0</td>\n",
       "      <td>258.690044</td>\n",
       "      <td>507.0</td>\n",
       "      <td>94.472474</td>\n",
       "    </tr>\n",
       "    <tr>\n",
       "      <th>NIKHEF</th>\n",
       "      <td>1049.0</td>\n",
       "      <td>247.283948</td>\n",
       "      <td>NaN</td>\n",
       "      <td>NaN</td>\n",
       "    </tr>\n",
       "    <tr>\n",
       "      <th>RU-Protvino-IHEP</th>\n",
       "      <td>966.0</td>\n",
       "      <td>259.807535</td>\n",
       "      <td>673.0</td>\n",
       "      <td>160.600648</td>\n",
       "    </tr>\n",
       "    <tr>\n",
       "      <th>wuppertalprod</th>\n",
       "      <td>925.0</td>\n",
       "      <td>206.803441</td>\n",
       "      <td>831.0</td>\n",
       "      <td>188.529902</td>\n",
       "    </tr>\n",
       "    <tr>\n",
       "      <th>CYFRONET-LCG2</th>\n",
       "      <td>918.0</td>\n",
       "      <td>214.556236</td>\n",
       "      <td>404.0</td>\n",
       "      <td>54.869261</td>\n",
       "    </tr>\n",
       "    <tr>\n",
       "      <th>INFN-ROMA1</th>\n",
       "      <td>908.0</td>\n",
       "      <td>210.324319</td>\n",
       "      <td>928.0</td>\n",
       "      <td>212.153373</td>\n",
       "    </tr>\n",
       "    <tr>\n",
       "      <th>UNIBE-LHEP</th>\n",
       "      <td>892.0</td>\n",
       "      <td>223.976127</td>\n",
       "      <td>2919.0</td>\n",
       "      <td>424.000438</td>\n",
       "    </tr>\n",
       "    <tr>\n",
       "      <th>LRZ-LMU</th>\n",
       "      <td>863.0</td>\n",
       "      <td>188.499783</td>\n",
       "      <td>1331.0</td>\n",
       "      <td>330.054834</td>\n",
       "    </tr>\n",
       "    <tr>\n",
       "      <th>IN2P3-LPSC</th>\n",
       "      <td>777.0</td>\n",
       "      <td>168.789284</td>\n",
       "      <td>576.0</td>\n",
       "      <td>120.597521</td>\n",
       "    </tr>\n",
       "    <tr>\n",
       "      <th>praguelcg2</th>\n",
       "      <td>757.0</td>\n",
       "      <td>158.439117</td>\n",
       "      <td>988.0</td>\n",
       "      <td>185.038422</td>\n",
       "    </tr>\n",
       "    <tr>\n",
       "      <th>MPPMU</th>\n",
       "      <td>755.0</td>\n",
       "      <td>74.957874</td>\n",
       "      <td>629.0</td>\n",
       "      <td>77.727071</td>\n",
       "    </tr>\n",
       "    <tr>\n",
       "      <th>IEPSAS-Kosice</th>\n",
       "      <td>754.0</td>\n",
       "      <td>193.040854</td>\n",
       "      <td>722.0</td>\n",
       "      <td>157.802919</td>\n",
       "    </tr>\n",
       "    <tr>\n",
       "      <th>GRIF-LAL</th>\n",
       "      <td>697.0</td>\n",
       "      <td>141.531088</td>\n",
       "      <td>909.0</td>\n",
       "      <td>149.594449</td>\n",
       "    </tr>\n",
       "  </tbody>\n",
       "</table>\n",
       "</div>"
      ],
      "text/plain": [
       "                         n_replicas  replicas_volume  n_datasets  \\\n",
       "ds_replicas_sites                                                  \n",
       "BNL-ATLAS                   15205.0      3534.911860     17398.0   \n",
       "CERN-PROD                   13267.0      2876.934759     14454.0   \n",
       "RAL-LCG2                     9842.0      1975.262235      7288.0   \n",
       "MWT2                         7658.0      1652.394889     10249.0   \n",
       "FZK-LCG2                     6286.0      1516.974601      6954.0   \n",
       "NDGF-T1                      6006.0      1272.226708      3206.0   \n",
       "AGLT2                        5073.0      1117.105389      6506.0   \n",
       "TRIUMF-LCG2                  4883.0      1295.203105      4555.0   \n",
       "IN2P3-CC                     4814.0      1151.617813      6023.0   \n",
       "TOKYO-LCG2                   4694.0       997.557519      5370.0   \n",
       "INFN-T1                      4687.0      1102.036560      2851.0   \n",
       "Taiwan-LCG2                  4622.0       871.710700         NaN   \n",
       "BU_NESE                      3655.0       902.749118         NaN   \n",
       "SWT2_CPB                     3610.0       740.133721      3172.0   \n",
       "RRC-KI-T1                    3505.0       769.000335      2366.0   \n",
       "DESY-HH                      3408.0       584.378217      2375.0   \n",
       "CA-SFU-T2                    2841.0       762.656228      1893.0   \n",
       "BU_ATLAS_Tier2               2550.0       508.051616      4958.0   \n",
       "GoeGrid                      2028.0       460.448180      1441.0   \n",
       "RO-07-NIPNE                  1941.0       441.600478      1488.0   \n",
       "UKI-LT2-QMUL                 1761.0       328.419526      1908.0   \n",
       "UKI-NORTHGRID-MAN-HEP        1680.0       525.757833      2020.0   \n",
       "IN2P3-LAPP                   1679.0       323.372420      1934.0   \n",
       "UKI-NORTHGRID-LANCS-HEP      1589.0       360.902546      1038.0   \n",
       "CA-WATERLOO-T2               1548.0       361.917062       638.0   \n",
       "IFIC-LCG2                    1495.0       225.622911      1414.0   \n",
       "pic                          1395.0       354.796778       969.0   \n",
       "IN2P3-LPC                    1378.0       214.967545      1571.0   \n",
       "TECHNION-HEP                 1351.0       329.664823      1330.0   \n",
       "IN2P3-CPPM                   1309.0       260.122077      1589.0   \n",
       "SARA-MATRIX                  1226.0       418.404569      1365.0   \n",
       "DESY-ZN                      1223.0       215.032214      1827.0   \n",
       "INFN-NAPOLI-ATLAS            1201.0       222.457062       859.0   \n",
       "INFN-FRASCATI                1161.0       283.618721       807.0   \n",
       "GRIF-IRFU                    1110.0       169.732081      1250.0   \n",
       "UNI-FREIBURG                 1109.0       180.975869      1231.0   \n",
       "CSCS-LCG2                    1102.0       214.876191       930.0   \n",
       "Australia-ATLAS              1056.0       258.690044       507.0   \n",
       "NIKHEF                       1049.0       247.283948         NaN   \n",
       "RU-Protvino-IHEP              966.0       259.807535       673.0   \n",
       "wuppertalprod                 925.0       206.803441       831.0   \n",
       "CYFRONET-LCG2                 918.0       214.556236       404.0   \n",
       "INFN-ROMA1                    908.0       210.324319       928.0   \n",
       "UNIBE-LHEP                    892.0       223.976127      2919.0   \n",
       "LRZ-LMU                       863.0       188.499783      1331.0   \n",
       "IN2P3-LPSC                    777.0       168.789284       576.0   \n",
       "praguelcg2                    757.0       158.439117       988.0   \n",
       "MPPMU                         755.0        74.957874       629.0   \n",
       "IEPSAS-Kosice                 754.0       193.040854       722.0   \n",
       "GRIF-LAL                      697.0       141.531088       909.0   \n",
       "\n",
       "                         processed_data_volume  \n",
       "ds_replicas_sites                               \n",
       "BNL-ATLAS                          5906.329625  \n",
       "CERN-PROD                          6161.986354  \n",
       "RAL-LCG2                           1670.166541  \n",
       "MWT2                               2873.331124  \n",
       "FZK-LCG2                           1738.928541  \n",
       "NDGF-T1                             506.301935  \n",
       "AGLT2                              1572.773445  \n",
       "TRIUMF-LCG2                        1181.533520  \n",
       "IN2P3-CC                           1307.778866  \n",
       "TOKYO-LCG2                         1014.058323  \n",
       "INFN-T1                             552.622722  \n",
       "Taiwan-LCG2                                NaN  \n",
       "BU_NESE                                    NaN  \n",
       "SWT2_CPB                            501.224805  \n",
       "RRC-KI-T1                           479.808599  \n",
       "DESY-HH                             301.713801  \n",
       "CA-SFU-T2                           607.077586  \n",
       "BU_ATLAS_Tier2                      848.873779  \n",
       "GoeGrid                             331.668501  \n",
       "RO-07-NIPNE                         307.329693  \n",
       "UKI-LT2-QMUL                        314.926646  \n",
       "UKI-NORTHGRID-MAN-HEP               825.479032  \n",
       "IN2P3-LAPP                          464.388356  \n",
       "UKI-NORTHGRID-LANCS-HEP             207.815137  \n",
       "CA-WATERLOO-T2                      118.723617  \n",
       "IFIC-LCG2                           240.311924  \n",
       "pic                                 209.386754  \n",
       "IN2P3-LPC                           278.677601  \n",
       "TECHNION-HEP                        348.738552  \n",
       "IN2P3-CPPM                          250.503675  \n",
       "SARA-MATRIX                         270.111845  \n",
       "DESY-ZN                             336.150243  \n",
       "INFN-NAPOLI-ATLAS                   165.636656  \n",
       "INFN-FRASCATI                       168.991801  \n",
       "GRIF-IRFU                           189.649831  \n",
       "UNI-FREIBURG                        222.779487  \n",
       "CSCS-LCG2                           171.969032  \n",
       "Australia-ATLAS                      94.472474  \n",
       "NIKHEF                                     NaN  \n",
       "RU-Protvino-IHEP                    160.600648  \n",
       "wuppertalprod                       188.529902  \n",
       "CYFRONET-LCG2                        54.869261  \n",
       "INFN-ROMA1                          212.153373  \n",
       "UNIBE-LHEP                          424.000438  \n",
       "LRZ-LMU                             330.054834  \n",
       "IN2P3-LPSC                          120.597521  \n",
       "praguelcg2                          185.038422  \n",
       "MPPMU                                77.727071  \n",
       "IEPSAS-Kosice                       157.802919  \n",
       "GRIF-LAL                            149.594449  "
      ]
     },
     "execution_count": 194,
     "metadata": {},
     "output_type": "execute_result"
    }
   ],
   "source": [
    "totals_all.head(50)"
   ]
  },
  {
   "cell_type": "code",
   "execution_count": 195,
   "metadata": {},
   "outputs": [],
   "source": [
    "import plotly.express as px"
   ]
  },
  {
   "cell_type": "code",
   "execution_count": 198,
   "metadata": {},
   "outputs": [
    {
     "data": {
      "application/vnd.plotly.v1+json": {
       "config": {
        "plotlyServerURL": "https://plot.ly"
       },
       "data": [
        {
         "alignmentgroup": "True",
         "hovertemplate": "variable=n_replicas<br>ds_replicas_sites=%{x}<br>value=%{y}<extra></extra>",
         "legendgroup": "n_replicas",
         "marker": {
          "color": "#636efa"
         },
         "name": "n_replicas",
         "offsetgroup": "n_replicas",
         "orientation": "v",
         "showlegend": true,
         "textposition": "auto",
         "type": "bar",
         "x": [
          "BNL-ATLAS",
          "CERN-PROD",
          "RAL-LCG2",
          "MWT2",
          "FZK-LCG2",
          "NDGF-T1",
          "AGLT2",
          "TRIUMF-LCG2",
          "IN2P3-CC",
          "TOKYO-LCG2",
          "INFN-T1",
          "Taiwan-LCG2",
          "BU_NESE",
          "SWT2_CPB",
          "RRC-KI-T1",
          "DESY-HH",
          "CA-SFU-T2",
          "BU_ATLAS_Tier2",
          "GoeGrid",
          "RO-07-NIPNE",
          "UKI-LT2-QMUL",
          "UKI-NORTHGRID-MAN-HEP",
          "IN2P3-LAPP",
          "UKI-NORTHGRID-LANCS-HEP",
          "CA-WATERLOO-T2",
          "IFIC-LCG2",
          "pic",
          "IN2P3-LPC",
          "TECHNION-HEP",
          "IN2P3-CPPM",
          "SARA-MATRIX",
          "DESY-ZN",
          "INFN-NAPOLI-ATLAS",
          "INFN-FRASCATI",
          "GRIF-IRFU",
          "UNI-FREIBURG",
          "CSCS-LCG2",
          "Australia-ATLAS",
          "NIKHEF",
          "RU-Protvino-IHEP",
          "wuppertalprod",
          "CYFRONET-LCG2",
          "INFN-ROMA1",
          "UNIBE-LHEP",
          "LRZ-LMU",
          "IN2P3-LPSC",
          "praguelcg2",
          "MPPMU",
          "IEPSAS-Kosice",
          "GRIF-LAL"
         ],
         "xaxis": "x",
         "y": [
          15205,
          13267,
          9842,
          7658,
          6286,
          6006,
          5073,
          4883,
          4814,
          4694,
          4687,
          4622,
          3655,
          3610,
          3505,
          3408,
          2841,
          2550,
          2028,
          1941,
          1761,
          1680,
          1679,
          1589,
          1548,
          1495,
          1395,
          1378,
          1351,
          1309,
          1226,
          1223,
          1201,
          1161,
          1110,
          1109,
          1102,
          1056,
          1049,
          966,
          925,
          918,
          908,
          892,
          863,
          777,
          757,
          755,
          754,
          697
         ],
         "yaxis": "y"
        },
        {
         "alignmentgroup": "True",
         "hovertemplate": "variable=replicas_volume<br>ds_replicas_sites=%{x}<br>value=%{y}<extra></extra>",
         "legendgroup": "replicas_volume",
         "marker": {
          "color": "#EF553B"
         },
         "name": "replicas_volume",
         "offsetgroup": "replicas_volume",
         "orientation": "v",
         "showlegend": true,
         "textposition": "auto",
         "type": "bar",
         "x": [
          "BNL-ATLAS",
          "CERN-PROD",
          "RAL-LCG2",
          "MWT2",
          "FZK-LCG2",
          "NDGF-T1",
          "AGLT2",
          "TRIUMF-LCG2",
          "IN2P3-CC",
          "TOKYO-LCG2",
          "INFN-T1",
          "Taiwan-LCG2",
          "BU_NESE",
          "SWT2_CPB",
          "RRC-KI-T1",
          "DESY-HH",
          "CA-SFU-T2",
          "BU_ATLAS_Tier2",
          "GoeGrid",
          "RO-07-NIPNE",
          "UKI-LT2-QMUL",
          "UKI-NORTHGRID-MAN-HEP",
          "IN2P3-LAPP",
          "UKI-NORTHGRID-LANCS-HEP",
          "CA-WATERLOO-T2",
          "IFIC-LCG2",
          "pic",
          "IN2P3-LPC",
          "TECHNION-HEP",
          "IN2P3-CPPM",
          "SARA-MATRIX",
          "DESY-ZN",
          "INFN-NAPOLI-ATLAS",
          "INFN-FRASCATI",
          "GRIF-IRFU",
          "UNI-FREIBURG",
          "CSCS-LCG2",
          "Australia-ATLAS",
          "NIKHEF",
          "RU-Protvino-IHEP",
          "wuppertalprod",
          "CYFRONET-LCG2",
          "INFN-ROMA1",
          "UNIBE-LHEP",
          "LRZ-LMU",
          "IN2P3-LPSC",
          "praguelcg2",
          "MPPMU",
          "IEPSAS-Kosice",
          "GRIF-LAL"
         ],
         "xaxis": "x",
         "y": [
          3534.911860255576,
          2876.934758610927,
          1975.262234753644,
          1652.39488860063,
          1516.97460143452,
          1272.226708072257,
          1117.105388897051,
          1295.203105052578,
          1151.617812761956,
          997.557518927544,
          1102.036559981647,
          871.710699784401,
          902.749118389067,
          740.133721463535,
          769.000334887361,
          584.378216879417,
          762.65622801851,
          508.05161550448,
          460.448180094784,
          441.600477900717,
          328.419526348007,
          525.757832533582,
          323.3724201053,
          360.902546443196,
          361.917062092452,
          225.62291112412,
          354.796778154434,
          214.9675447008,
          329.664822504545,
          260.122077447061,
          418.404569098107,
          215.032214293649,
          222.457061918645,
          283.618720739781,
          169.732080788759,
          180.975869451043,
          214.876190685239,
          258.690044069156,
          247.28394848564,
          259.8075353949,
          206.803441082067,
          214.556236474705,
          210.324319163861,
          223.976126781965,
          188.49978337233,
          168.789283996721,
          158.439117166448,
          74.957873901761,
          193.04085377325,
          141.531087511733
         ],
         "yaxis": "y"
        },
        {
         "alignmentgroup": "True",
         "hovertemplate": "variable=n_datasets<br>ds_replicas_sites=%{x}<br>value=%{y}<extra></extra>",
         "legendgroup": "n_datasets",
         "marker": {
          "color": "#00cc96"
         },
         "name": "n_datasets",
         "offsetgroup": "n_datasets",
         "orientation": "v",
         "showlegend": true,
         "textposition": "auto",
         "type": "bar",
         "x": [
          "BNL-ATLAS",
          "CERN-PROD",
          "RAL-LCG2",
          "MWT2",
          "FZK-LCG2",
          "NDGF-T1",
          "AGLT2",
          "TRIUMF-LCG2",
          "IN2P3-CC",
          "TOKYO-LCG2",
          "INFN-T1",
          "Taiwan-LCG2",
          "BU_NESE",
          "SWT2_CPB",
          "RRC-KI-T1",
          "DESY-HH",
          "CA-SFU-T2",
          "BU_ATLAS_Tier2",
          "GoeGrid",
          "RO-07-NIPNE",
          "UKI-LT2-QMUL",
          "UKI-NORTHGRID-MAN-HEP",
          "IN2P3-LAPP",
          "UKI-NORTHGRID-LANCS-HEP",
          "CA-WATERLOO-T2",
          "IFIC-LCG2",
          "pic",
          "IN2P3-LPC",
          "TECHNION-HEP",
          "IN2P3-CPPM",
          "SARA-MATRIX",
          "DESY-ZN",
          "INFN-NAPOLI-ATLAS",
          "INFN-FRASCATI",
          "GRIF-IRFU",
          "UNI-FREIBURG",
          "CSCS-LCG2",
          "Australia-ATLAS",
          "NIKHEF",
          "RU-Protvino-IHEP",
          "wuppertalprod",
          "CYFRONET-LCG2",
          "INFN-ROMA1",
          "UNIBE-LHEP",
          "LRZ-LMU",
          "IN2P3-LPSC",
          "praguelcg2",
          "MPPMU",
          "IEPSAS-Kosice",
          "GRIF-LAL"
         ],
         "xaxis": "x",
         "y": [
          17398,
          14454,
          7288,
          10249,
          6954,
          3206,
          6506,
          4555,
          6023,
          5370,
          2851,
          null,
          null,
          3172,
          2366,
          2375,
          1893,
          4958,
          1441,
          1488,
          1908,
          2020,
          1934,
          1038,
          638,
          1414,
          969,
          1571,
          1330,
          1589,
          1365,
          1827,
          859,
          807,
          1250,
          1231,
          930,
          507,
          null,
          673,
          831,
          404,
          928,
          2919,
          1331,
          576,
          988,
          629,
          722,
          909
         ],
         "yaxis": "y"
        },
        {
         "alignmentgroup": "True",
         "hovertemplate": "variable=processed_data_volume<br>ds_replicas_sites=%{x}<br>value=%{y}<extra></extra>",
         "legendgroup": "processed_data_volume",
         "marker": {
          "color": "#ab63fa"
         },
         "name": "processed_data_volume",
         "offsetgroup": "processed_data_volume",
         "orientation": "v",
         "showlegend": true,
         "textposition": "auto",
         "type": "bar",
         "x": [
          "BNL-ATLAS",
          "CERN-PROD",
          "RAL-LCG2",
          "MWT2",
          "FZK-LCG2",
          "NDGF-T1",
          "AGLT2",
          "TRIUMF-LCG2",
          "IN2P3-CC",
          "TOKYO-LCG2",
          "INFN-T1",
          "Taiwan-LCG2",
          "BU_NESE",
          "SWT2_CPB",
          "RRC-KI-T1",
          "DESY-HH",
          "CA-SFU-T2",
          "BU_ATLAS_Tier2",
          "GoeGrid",
          "RO-07-NIPNE",
          "UKI-LT2-QMUL",
          "UKI-NORTHGRID-MAN-HEP",
          "IN2P3-LAPP",
          "UKI-NORTHGRID-LANCS-HEP",
          "CA-WATERLOO-T2",
          "IFIC-LCG2",
          "pic",
          "IN2P3-LPC",
          "TECHNION-HEP",
          "IN2P3-CPPM",
          "SARA-MATRIX",
          "DESY-ZN",
          "INFN-NAPOLI-ATLAS",
          "INFN-FRASCATI",
          "GRIF-IRFU",
          "UNI-FREIBURG",
          "CSCS-LCG2",
          "Australia-ATLAS",
          "NIKHEF",
          "RU-Protvino-IHEP",
          "wuppertalprod",
          "CYFRONET-LCG2",
          "INFN-ROMA1",
          "UNIBE-LHEP",
          "LRZ-LMU",
          "IN2P3-LPSC",
          "praguelcg2",
          "MPPMU",
          "IEPSAS-Kosice",
          "GRIF-LAL"
         ],
         "xaxis": "x",
         "y": [
          5906.32962513461,
          6161.986353716363,
          1670.166540951547,
          2873.331124347378,
          1738.928540594238,
          506.301934993766,
          1572.773445467024,
          1181.533520461887,
          1307.778866194829,
          1014.058323018736,
          552.622721612237,
          null,
          null,
          501.224804672945,
          479.808599347969,
          301.713800787142,
          607.0775861029,
          848.873779358612,
          331.668501201667,
          307.329693192116,
          314.926645574692,
          825.479032239178,
          464.388356207417,
          207.815137395934,
          118.723616967621,
          240.311924264637,
          209.38675404805,
          278.677600877232,
          348.738552360393,
          250.503674962449,
          270.111845428282,
          336.150242555902,
          165.636656380946,
          168.991800910929,
          189.649830748358,
          222.779486551735,
          171.969031527876,
          94.47247394912,
          null,
          160.600647814372,
          188.529902102422,
          54.869261378121,
          212.153373362196,
          424.000437693408,
          330.05483382292,
          120.597521128941,
          185.038421739808,
          77.727071019919,
          157.802918587102,
          149.594449368792
         ],
         "yaxis": "y"
        }
       ],
       "layout": {
        "barmode": "relative",
        "legend": {
         "title": {
          "text": "variable"
         },
         "tracegroupgap": 0
        },
        "margin": {
         "t": 60
        },
        "template": {
         "data": {
          "bar": [
           {
            "error_x": {
             "color": "#2a3f5f"
            },
            "error_y": {
             "color": "#2a3f5f"
            },
            "marker": {
             "line": {
              "color": "#E5ECF6",
              "width": 0.5
             }
            },
            "type": "bar"
           }
          ],
          "barpolar": [
           {
            "marker": {
             "line": {
              "color": "#E5ECF6",
              "width": 0.5
             }
            },
            "type": "barpolar"
           }
          ],
          "carpet": [
           {
            "aaxis": {
             "endlinecolor": "#2a3f5f",
             "gridcolor": "white",
             "linecolor": "white",
             "minorgridcolor": "white",
             "startlinecolor": "#2a3f5f"
            },
            "baxis": {
             "endlinecolor": "#2a3f5f",
             "gridcolor": "white",
             "linecolor": "white",
             "minorgridcolor": "white",
             "startlinecolor": "#2a3f5f"
            },
            "type": "carpet"
           }
          ],
          "choropleth": [
           {
            "colorbar": {
             "outlinewidth": 0,
             "ticks": ""
            },
            "type": "choropleth"
           }
          ],
          "contour": [
           {
            "colorbar": {
             "outlinewidth": 0,
             "ticks": ""
            },
            "colorscale": [
             [
              0,
              "#0d0887"
             ],
             [
              0.1111111111111111,
              "#46039f"
             ],
             [
              0.2222222222222222,
              "#7201a8"
             ],
             [
              0.3333333333333333,
              "#9c179e"
             ],
             [
              0.4444444444444444,
              "#bd3786"
             ],
             [
              0.5555555555555556,
              "#d8576b"
             ],
             [
              0.6666666666666666,
              "#ed7953"
             ],
             [
              0.7777777777777778,
              "#fb9f3a"
             ],
             [
              0.8888888888888888,
              "#fdca26"
             ],
             [
              1,
              "#f0f921"
             ]
            ],
            "type": "contour"
           }
          ],
          "contourcarpet": [
           {
            "colorbar": {
             "outlinewidth": 0,
             "ticks": ""
            },
            "type": "contourcarpet"
           }
          ],
          "heatmap": [
           {
            "colorbar": {
             "outlinewidth": 0,
             "ticks": ""
            },
            "colorscale": [
             [
              0,
              "#0d0887"
             ],
             [
              0.1111111111111111,
              "#46039f"
             ],
             [
              0.2222222222222222,
              "#7201a8"
             ],
             [
              0.3333333333333333,
              "#9c179e"
             ],
             [
              0.4444444444444444,
              "#bd3786"
             ],
             [
              0.5555555555555556,
              "#d8576b"
             ],
             [
              0.6666666666666666,
              "#ed7953"
             ],
             [
              0.7777777777777778,
              "#fb9f3a"
             ],
             [
              0.8888888888888888,
              "#fdca26"
             ],
             [
              1,
              "#f0f921"
             ]
            ],
            "type": "heatmap"
           }
          ],
          "heatmapgl": [
           {
            "colorbar": {
             "outlinewidth": 0,
             "ticks": ""
            },
            "colorscale": [
             [
              0,
              "#0d0887"
             ],
             [
              0.1111111111111111,
              "#46039f"
             ],
             [
              0.2222222222222222,
              "#7201a8"
             ],
             [
              0.3333333333333333,
              "#9c179e"
             ],
             [
              0.4444444444444444,
              "#bd3786"
             ],
             [
              0.5555555555555556,
              "#d8576b"
             ],
             [
              0.6666666666666666,
              "#ed7953"
             ],
             [
              0.7777777777777778,
              "#fb9f3a"
             ],
             [
              0.8888888888888888,
              "#fdca26"
             ],
             [
              1,
              "#f0f921"
             ]
            ],
            "type": "heatmapgl"
           }
          ],
          "histogram": [
           {
            "marker": {
             "colorbar": {
              "outlinewidth": 0,
              "ticks": ""
             }
            },
            "type": "histogram"
           }
          ],
          "histogram2d": [
           {
            "colorbar": {
             "outlinewidth": 0,
             "ticks": ""
            },
            "colorscale": [
             [
              0,
              "#0d0887"
             ],
             [
              0.1111111111111111,
              "#46039f"
             ],
             [
              0.2222222222222222,
              "#7201a8"
             ],
             [
              0.3333333333333333,
              "#9c179e"
             ],
             [
              0.4444444444444444,
              "#bd3786"
             ],
             [
              0.5555555555555556,
              "#d8576b"
             ],
             [
              0.6666666666666666,
              "#ed7953"
             ],
             [
              0.7777777777777778,
              "#fb9f3a"
             ],
             [
              0.8888888888888888,
              "#fdca26"
             ],
             [
              1,
              "#f0f921"
             ]
            ],
            "type": "histogram2d"
           }
          ],
          "histogram2dcontour": [
           {
            "colorbar": {
             "outlinewidth": 0,
             "ticks": ""
            },
            "colorscale": [
             [
              0,
              "#0d0887"
             ],
             [
              0.1111111111111111,
              "#46039f"
             ],
             [
              0.2222222222222222,
              "#7201a8"
             ],
             [
              0.3333333333333333,
              "#9c179e"
             ],
             [
              0.4444444444444444,
              "#bd3786"
             ],
             [
              0.5555555555555556,
              "#d8576b"
             ],
             [
              0.6666666666666666,
              "#ed7953"
             ],
             [
              0.7777777777777778,
              "#fb9f3a"
             ],
             [
              0.8888888888888888,
              "#fdca26"
             ],
             [
              1,
              "#f0f921"
             ]
            ],
            "type": "histogram2dcontour"
           }
          ],
          "mesh3d": [
           {
            "colorbar": {
             "outlinewidth": 0,
             "ticks": ""
            },
            "type": "mesh3d"
           }
          ],
          "parcoords": [
           {
            "line": {
             "colorbar": {
              "outlinewidth": 0,
              "ticks": ""
             }
            },
            "type": "parcoords"
           }
          ],
          "pie": [
           {
            "automargin": true,
            "type": "pie"
           }
          ],
          "scatter": [
           {
            "marker": {
             "colorbar": {
              "outlinewidth": 0,
              "ticks": ""
             }
            },
            "type": "scatter"
           }
          ],
          "scatter3d": [
           {
            "line": {
             "colorbar": {
              "outlinewidth": 0,
              "ticks": ""
             }
            },
            "marker": {
             "colorbar": {
              "outlinewidth": 0,
              "ticks": ""
             }
            },
            "type": "scatter3d"
           }
          ],
          "scattercarpet": [
           {
            "marker": {
             "colorbar": {
              "outlinewidth": 0,
              "ticks": ""
             }
            },
            "type": "scattercarpet"
           }
          ],
          "scattergeo": [
           {
            "marker": {
             "colorbar": {
              "outlinewidth": 0,
              "ticks": ""
             }
            },
            "type": "scattergeo"
           }
          ],
          "scattergl": [
           {
            "marker": {
             "colorbar": {
              "outlinewidth": 0,
              "ticks": ""
             }
            },
            "type": "scattergl"
           }
          ],
          "scattermapbox": [
           {
            "marker": {
             "colorbar": {
              "outlinewidth": 0,
              "ticks": ""
             }
            },
            "type": "scattermapbox"
           }
          ],
          "scatterpolar": [
           {
            "marker": {
             "colorbar": {
              "outlinewidth": 0,
              "ticks": ""
             }
            },
            "type": "scatterpolar"
           }
          ],
          "scatterpolargl": [
           {
            "marker": {
             "colorbar": {
              "outlinewidth": 0,
              "ticks": ""
             }
            },
            "type": "scatterpolargl"
           }
          ],
          "scatterternary": [
           {
            "marker": {
             "colorbar": {
              "outlinewidth": 0,
              "ticks": ""
             }
            },
            "type": "scatterternary"
           }
          ],
          "surface": [
           {
            "colorbar": {
             "outlinewidth": 0,
             "ticks": ""
            },
            "colorscale": [
             [
              0,
              "#0d0887"
             ],
             [
              0.1111111111111111,
              "#46039f"
             ],
             [
              0.2222222222222222,
              "#7201a8"
             ],
             [
              0.3333333333333333,
              "#9c179e"
             ],
             [
              0.4444444444444444,
              "#bd3786"
             ],
             [
              0.5555555555555556,
              "#d8576b"
             ],
             [
              0.6666666666666666,
              "#ed7953"
             ],
             [
              0.7777777777777778,
              "#fb9f3a"
             ],
             [
              0.8888888888888888,
              "#fdca26"
             ],
             [
              1,
              "#f0f921"
             ]
            ],
            "type": "surface"
           }
          ],
          "table": [
           {
            "cells": {
             "fill": {
              "color": "#EBF0F8"
             },
             "line": {
              "color": "white"
             }
            },
            "header": {
             "fill": {
              "color": "#C8D4E3"
             },
             "line": {
              "color": "white"
             }
            },
            "type": "table"
           }
          ]
         },
         "layout": {
          "annotationdefaults": {
           "arrowcolor": "#2a3f5f",
           "arrowhead": 0,
           "arrowwidth": 1
          },
          "coloraxis": {
           "colorbar": {
            "outlinewidth": 0,
            "ticks": ""
           }
          },
          "colorscale": {
           "diverging": [
            [
             0,
             "#8e0152"
            ],
            [
             0.1,
             "#c51b7d"
            ],
            [
             0.2,
             "#de77ae"
            ],
            [
             0.3,
             "#f1b6da"
            ],
            [
             0.4,
             "#fde0ef"
            ],
            [
             0.5,
             "#f7f7f7"
            ],
            [
             0.6,
             "#e6f5d0"
            ],
            [
             0.7,
             "#b8e186"
            ],
            [
             0.8,
             "#7fbc41"
            ],
            [
             0.9,
             "#4d9221"
            ],
            [
             1,
             "#276419"
            ]
           ],
           "sequential": [
            [
             0,
             "#0d0887"
            ],
            [
             0.1111111111111111,
             "#46039f"
            ],
            [
             0.2222222222222222,
             "#7201a8"
            ],
            [
             0.3333333333333333,
             "#9c179e"
            ],
            [
             0.4444444444444444,
             "#bd3786"
            ],
            [
             0.5555555555555556,
             "#d8576b"
            ],
            [
             0.6666666666666666,
             "#ed7953"
            ],
            [
             0.7777777777777778,
             "#fb9f3a"
            ],
            [
             0.8888888888888888,
             "#fdca26"
            ],
            [
             1,
             "#f0f921"
            ]
           ],
           "sequentialminus": [
            [
             0,
             "#0d0887"
            ],
            [
             0.1111111111111111,
             "#46039f"
            ],
            [
             0.2222222222222222,
             "#7201a8"
            ],
            [
             0.3333333333333333,
             "#9c179e"
            ],
            [
             0.4444444444444444,
             "#bd3786"
            ],
            [
             0.5555555555555556,
             "#d8576b"
            ],
            [
             0.6666666666666666,
             "#ed7953"
            ],
            [
             0.7777777777777778,
             "#fb9f3a"
            ],
            [
             0.8888888888888888,
             "#fdca26"
            ],
            [
             1,
             "#f0f921"
            ]
           ]
          },
          "colorway": [
           "#636efa",
           "#EF553B",
           "#00cc96",
           "#ab63fa",
           "#FFA15A",
           "#19d3f3",
           "#FF6692",
           "#B6E880",
           "#FF97FF",
           "#FECB52"
          ],
          "font": {
           "color": "#2a3f5f"
          },
          "geo": {
           "bgcolor": "white",
           "lakecolor": "white",
           "landcolor": "#E5ECF6",
           "showlakes": true,
           "showland": true,
           "subunitcolor": "white"
          },
          "hoverlabel": {
           "align": "left"
          },
          "hovermode": "closest",
          "mapbox": {
           "style": "light"
          },
          "paper_bgcolor": "white",
          "plot_bgcolor": "#E5ECF6",
          "polar": {
           "angularaxis": {
            "gridcolor": "white",
            "linecolor": "white",
            "ticks": ""
           },
           "bgcolor": "#E5ECF6",
           "radialaxis": {
            "gridcolor": "white",
            "linecolor": "white",
            "ticks": ""
           }
          },
          "scene": {
           "xaxis": {
            "backgroundcolor": "#E5ECF6",
            "gridcolor": "white",
            "gridwidth": 2,
            "linecolor": "white",
            "showbackground": true,
            "ticks": "",
            "zerolinecolor": "white"
           },
           "yaxis": {
            "backgroundcolor": "#E5ECF6",
            "gridcolor": "white",
            "gridwidth": 2,
            "linecolor": "white",
            "showbackground": true,
            "ticks": "",
            "zerolinecolor": "white"
           },
           "zaxis": {
            "backgroundcolor": "#E5ECF6",
            "gridcolor": "white",
            "gridwidth": 2,
            "linecolor": "white",
            "showbackground": true,
            "ticks": "",
            "zerolinecolor": "white"
           }
          },
          "shapedefaults": {
           "line": {
            "color": "#2a3f5f"
           }
          },
          "ternary": {
           "aaxis": {
            "gridcolor": "white",
            "linecolor": "white",
            "ticks": ""
           },
           "baxis": {
            "gridcolor": "white",
            "linecolor": "white",
            "ticks": ""
           },
           "bgcolor": "#E5ECF6",
           "caxis": {
            "gridcolor": "white",
            "linecolor": "white",
            "ticks": ""
           }
          },
          "title": {
           "x": 0.05
          },
          "xaxis": {
           "automargin": true,
           "gridcolor": "white",
           "linecolor": "white",
           "ticks": "",
           "title": {
            "standoff": 15
           },
           "zerolinecolor": "white",
           "zerolinewidth": 2
          },
          "yaxis": {
           "automargin": true,
           "gridcolor": "white",
           "linecolor": "white",
           "ticks": "",
           "title": {
            "standoff": 15
           },
           "zerolinecolor": "white",
           "zerolinewidth": 2
          }
         }
        },
        "xaxis": {
         "anchor": "y",
         "domain": [
          0,
          1
         ],
         "title": {
          "text": "ds_replicas_sites"
         }
        },
        "yaxis": {
         "anchor": "x",
         "domain": [
          0,
          1
         ],
         "title": {
          "text": "value"
         }
        }
       }
      },
      "text/html": [
       "<div>                            <div id=\"2b777d67-7373-404c-b8c7-93ed36978fa0\" class=\"plotly-graph-div\" style=\"height:525px; width:100%;\"></div>            <script type=\"text/javascript\">                require([\"plotly\"], function(Plotly) {                    window.PLOTLYENV=window.PLOTLYENV || {};                                    if (document.getElementById(\"2b777d67-7373-404c-b8c7-93ed36978fa0\")) {                    Plotly.newPlot(                        \"2b777d67-7373-404c-b8c7-93ed36978fa0\",                        [{\"alignmentgroup\": \"True\", \"hovertemplate\": \"variable=n_replicas<br>ds_replicas_sites=%{x}<br>value=%{y}<extra></extra>\", \"legendgroup\": \"n_replicas\", \"marker\": {\"color\": \"#636efa\"}, \"name\": \"n_replicas\", \"offsetgroup\": \"n_replicas\", \"orientation\": \"v\", \"showlegend\": true, \"textposition\": \"auto\", \"type\": \"bar\", \"x\": [\"BNL-ATLAS\", \"CERN-PROD\", \"RAL-LCG2\", \"MWT2\", \"FZK-LCG2\", \"NDGF-T1\", \"AGLT2\", \"TRIUMF-LCG2\", \"IN2P3-CC\", \"TOKYO-LCG2\", \"INFN-T1\", \"Taiwan-LCG2\", \"BU_NESE\", \"SWT2_CPB\", \"RRC-KI-T1\", \"DESY-HH\", \"CA-SFU-T2\", \"BU_ATLAS_Tier2\", \"GoeGrid\", \"RO-07-NIPNE\", \"UKI-LT2-QMUL\", \"UKI-NORTHGRID-MAN-HEP\", \"IN2P3-LAPP\", \"UKI-NORTHGRID-LANCS-HEP\", \"CA-WATERLOO-T2\", \"IFIC-LCG2\", \"pic\", \"IN2P3-LPC\", \"TECHNION-HEP\", \"IN2P3-CPPM\", \"SARA-MATRIX\", \"DESY-ZN\", \"INFN-NAPOLI-ATLAS\", \"INFN-FRASCATI\", \"GRIF-IRFU\", \"UNI-FREIBURG\", \"CSCS-LCG2\", \"Australia-ATLAS\", \"NIKHEF\", \"RU-Protvino-IHEP\", \"wuppertalprod\", \"CYFRONET-LCG2\", \"INFN-ROMA1\", \"UNIBE-LHEP\", \"LRZ-LMU\", \"IN2P3-LPSC\", \"praguelcg2\", \"MPPMU\", \"IEPSAS-Kosice\", \"GRIF-LAL\"], \"xaxis\": \"x\", \"y\": [15205.0, 13267.0, 9842.0, 7658.0, 6286.0, 6006.0, 5073.0, 4883.0, 4814.0, 4694.0, 4687.0, 4622.0, 3655.0, 3610.0, 3505.0, 3408.0, 2841.0, 2550.0, 2028.0, 1941.0, 1761.0, 1680.0, 1679.0, 1589.0, 1548.0, 1495.0, 1395.0, 1378.0, 1351.0, 1309.0, 1226.0, 1223.0, 1201.0, 1161.0, 1110.0, 1109.0, 1102.0, 1056.0, 1049.0, 966.0, 925.0, 918.0, 908.0, 892.0, 863.0, 777.0, 757.0, 755.0, 754.0, 697.0], \"yaxis\": \"y\"}, {\"alignmentgroup\": \"True\", \"hovertemplate\": \"variable=replicas_volume<br>ds_replicas_sites=%{x}<br>value=%{y}<extra></extra>\", \"legendgroup\": \"replicas_volume\", \"marker\": {\"color\": \"#EF553B\"}, \"name\": \"replicas_volume\", \"offsetgroup\": \"replicas_volume\", \"orientation\": \"v\", \"showlegend\": true, \"textposition\": \"auto\", \"type\": \"bar\", \"x\": [\"BNL-ATLAS\", \"CERN-PROD\", \"RAL-LCG2\", \"MWT2\", \"FZK-LCG2\", \"NDGF-T1\", \"AGLT2\", \"TRIUMF-LCG2\", \"IN2P3-CC\", \"TOKYO-LCG2\", \"INFN-T1\", \"Taiwan-LCG2\", \"BU_NESE\", \"SWT2_CPB\", \"RRC-KI-T1\", \"DESY-HH\", \"CA-SFU-T2\", \"BU_ATLAS_Tier2\", \"GoeGrid\", \"RO-07-NIPNE\", \"UKI-LT2-QMUL\", \"UKI-NORTHGRID-MAN-HEP\", \"IN2P3-LAPP\", \"UKI-NORTHGRID-LANCS-HEP\", \"CA-WATERLOO-T2\", \"IFIC-LCG2\", \"pic\", \"IN2P3-LPC\", \"TECHNION-HEP\", \"IN2P3-CPPM\", \"SARA-MATRIX\", \"DESY-ZN\", \"INFN-NAPOLI-ATLAS\", \"INFN-FRASCATI\", \"GRIF-IRFU\", \"UNI-FREIBURG\", \"CSCS-LCG2\", \"Australia-ATLAS\", \"NIKHEF\", \"RU-Protvino-IHEP\", \"wuppertalprod\", \"CYFRONET-LCG2\", \"INFN-ROMA1\", \"UNIBE-LHEP\", \"LRZ-LMU\", \"IN2P3-LPSC\", \"praguelcg2\", \"MPPMU\", \"IEPSAS-Kosice\", \"GRIF-LAL\"], \"xaxis\": \"x\", \"y\": [3534.911860255576, 2876.934758610927, 1975.262234753644, 1652.39488860063, 1516.97460143452, 1272.226708072257, 1117.105388897051, 1295.203105052578, 1151.617812761956, 997.557518927544, 1102.036559981647, 871.710699784401, 902.749118389067, 740.133721463535, 769.000334887361, 584.378216879417, 762.65622801851, 508.05161550448, 460.448180094784, 441.600477900717, 328.419526348007, 525.757832533582, 323.3724201053, 360.902546443196, 361.917062092452, 225.62291112412, 354.796778154434, 214.9675447008, 329.664822504545, 260.122077447061, 418.404569098107, 215.032214293649, 222.457061918645, 283.618720739781, 169.732080788759, 180.975869451043, 214.876190685239, 258.690044069156, 247.28394848564, 259.8075353949, 206.803441082067, 214.556236474705, 210.324319163861, 223.976126781965, 188.49978337233, 168.789283996721, 158.439117166448, 74.957873901761, 193.04085377325, 141.531087511733], \"yaxis\": \"y\"}, {\"alignmentgroup\": \"True\", \"hovertemplate\": \"variable=n_datasets<br>ds_replicas_sites=%{x}<br>value=%{y}<extra></extra>\", \"legendgroup\": \"n_datasets\", \"marker\": {\"color\": \"#00cc96\"}, \"name\": \"n_datasets\", \"offsetgroup\": \"n_datasets\", \"orientation\": \"v\", \"showlegend\": true, \"textposition\": \"auto\", \"type\": \"bar\", \"x\": [\"BNL-ATLAS\", \"CERN-PROD\", \"RAL-LCG2\", \"MWT2\", \"FZK-LCG2\", \"NDGF-T1\", \"AGLT2\", \"TRIUMF-LCG2\", \"IN2P3-CC\", \"TOKYO-LCG2\", \"INFN-T1\", \"Taiwan-LCG2\", \"BU_NESE\", \"SWT2_CPB\", \"RRC-KI-T1\", \"DESY-HH\", \"CA-SFU-T2\", \"BU_ATLAS_Tier2\", \"GoeGrid\", \"RO-07-NIPNE\", \"UKI-LT2-QMUL\", \"UKI-NORTHGRID-MAN-HEP\", \"IN2P3-LAPP\", \"UKI-NORTHGRID-LANCS-HEP\", \"CA-WATERLOO-T2\", \"IFIC-LCG2\", \"pic\", \"IN2P3-LPC\", \"TECHNION-HEP\", \"IN2P3-CPPM\", \"SARA-MATRIX\", \"DESY-ZN\", \"INFN-NAPOLI-ATLAS\", \"INFN-FRASCATI\", \"GRIF-IRFU\", \"UNI-FREIBURG\", \"CSCS-LCG2\", \"Australia-ATLAS\", \"NIKHEF\", \"RU-Protvino-IHEP\", \"wuppertalprod\", \"CYFRONET-LCG2\", \"INFN-ROMA1\", \"UNIBE-LHEP\", \"LRZ-LMU\", \"IN2P3-LPSC\", \"praguelcg2\", \"MPPMU\", \"IEPSAS-Kosice\", \"GRIF-LAL\"], \"xaxis\": \"x\", \"y\": [17398.0, 14454.0, 7288.0, 10249.0, 6954.0, 3206.0, 6506.0, 4555.0, 6023.0, 5370.0, 2851.0, null, null, 3172.0, 2366.0, 2375.0, 1893.0, 4958.0, 1441.0, 1488.0, 1908.0, 2020.0, 1934.0, 1038.0, 638.0, 1414.0, 969.0, 1571.0, 1330.0, 1589.0, 1365.0, 1827.0, 859.0, 807.0, 1250.0, 1231.0, 930.0, 507.0, null, 673.0, 831.0, 404.0, 928.0, 2919.0, 1331.0, 576.0, 988.0, 629.0, 722.0, 909.0], \"yaxis\": \"y\"}, {\"alignmentgroup\": \"True\", \"hovertemplate\": \"variable=processed_data_volume<br>ds_replicas_sites=%{x}<br>value=%{y}<extra></extra>\", \"legendgroup\": \"processed_data_volume\", \"marker\": {\"color\": \"#ab63fa\"}, \"name\": \"processed_data_volume\", \"offsetgroup\": \"processed_data_volume\", \"orientation\": \"v\", \"showlegend\": true, \"textposition\": \"auto\", \"type\": \"bar\", \"x\": [\"BNL-ATLAS\", \"CERN-PROD\", \"RAL-LCG2\", \"MWT2\", \"FZK-LCG2\", \"NDGF-T1\", \"AGLT2\", \"TRIUMF-LCG2\", \"IN2P3-CC\", \"TOKYO-LCG2\", \"INFN-T1\", \"Taiwan-LCG2\", \"BU_NESE\", \"SWT2_CPB\", \"RRC-KI-T1\", \"DESY-HH\", \"CA-SFU-T2\", \"BU_ATLAS_Tier2\", \"GoeGrid\", \"RO-07-NIPNE\", \"UKI-LT2-QMUL\", \"UKI-NORTHGRID-MAN-HEP\", \"IN2P3-LAPP\", \"UKI-NORTHGRID-LANCS-HEP\", \"CA-WATERLOO-T2\", \"IFIC-LCG2\", \"pic\", \"IN2P3-LPC\", \"TECHNION-HEP\", \"IN2P3-CPPM\", \"SARA-MATRIX\", \"DESY-ZN\", \"INFN-NAPOLI-ATLAS\", \"INFN-FRASCATI\", \"GRIF-IRFU\", \"UNI-FREIBURG\", \"CSCS-LCG2\", \"Australia-ATLAS\", \"NIKHEF\", \"RU-Protvino-IHEP\", \"wuppertalprod\", \"CYFRONET-LCG2\", \"INFN-ROMA1\", \"UNIBE-LHEP\", \"LRZ-LMU\", \"IN2P3-LPSC\", \"praguelcg2\", \"MPPMU\", \"IEPSAS-Kosice\", \"GRIF-LAL\"], \"xaxis\": \"x\", \"y\": [5906.32962513461, 6161.986353716363, 1670.166540951547, 2873.331124347378, 1738.928540594238, 506.301934993766, 1572.773445467024, 1181.533520461887, 1307.778866194829, 1014.058323018736, 552.622721612237, null, null, 501.224804672945, 479.808599347969, 301.713800787142, 607.0775861029, 848.873779358612, 331.668501201667, 307.329693192116, 314.926645574692, 825.479032239178, 464.388356207417, 207.815137395934, 118.723616967621, 240.311924264637, 209.38675404805, 278.677600877232, 348.738552360393, 250.503674962449, 270.111845428282, 336.150242555902, 165.636656380946, 168.991800910929, 189.649830748358, 222.779486551735, 171.969031527876, 94.47247394912, null, 160.600647814372, 188.529902102422, 54.869261378121, 212.153373362196, 424.000437693408, 330.05483382292, 120.597521128941, 185.038421739808, 77.727071019919, 157.802918587102, 149.594449368792], \"yaxis\": \"y\"}],                        {\"barmode\": \"relative\", \"legend\": {\"title\": {\"text\": \"variable\"}, \"tracegroupgap\": 0}, \"margin\": {\"t\": 60}, \"template\": {\"data\": {\"bar\": [{\"error_x\": {\"color\": \"#2a3f5f\"}, \"error_y\": {\"color\": \"#2a3f5f\"}, \"marker\": {\"line\": {\"color\": \"#E5ECF6\", \"width\": 0.5}}, \"type\": \"bar\"}], \"barpolar\": [{\"marker\": {\"line\": {\"color\": \"#E5ECF6\", \"width\": 0.5}}, \"type\": \"barpolar\"}], \"carpet\": [{\"aaxis\": {\"endlinecolor\": \"#2a3f5f\", \"gridcolor\": \"white\", \"linecolor\": \"white\", \"minorgridcolor\": \"white\", \"startlinecolor\": \"#2a3f5f\"}, \"baxis\": {\"endlinecolor\": \"#2a3f5f\", \"gridcolor\": \"white\", \"linecolor\": \"white\", \"minorgridcolor\": \"white\", \"startlinecolor\": \"#2a3f5f\"}, \"type\": \"carpet\"}], \"choropleth\": [{\"colorbar\": {\"outlinewidth\": 0, \"ticks\": \"\"}, \"type\": \"choropleth\"}], \"contour\": [{\"colorbar\": {\"outlinewidth\": 0, \"ticks\": \"\"}, \"colorscale\": [[0.0, \"#0d0887\"], [0.1111111111111111, \"#46039f\"], [0.2222222222222222, \"#7201a8\"], [0.3333333333333333, \"#9c179e\"], [0.4444444444444444, \"#bd3786\"], [0.5555555555555556, \"#d8576b\"], [0.6666666666666666, \"#ed7953\"], [0.7777777777777778, \"#fb9f3a\"], [0.8888888888888888, \"#fdca26\"], [1.0, \"#f0f921\"]], \"type\": \"contour\"}], \"contourcarpet\": [{\"colorbar\": {\"outlinewidth\": 0, \"ticks\": \"\"}, \"type\": \"contourcarpet\"}], \"heatmap\": [{\"colorbar\": {\"outlinewidth\": 0, \"ticks\": \"\"}, \"colorscale\": [[0.0, \"#0d0887\"], [0.1111111111111111, \"#46039f\"], [0.2222222222222222, \"#7201a8\"], [0.3333333333333333, \"#9c179e\"], [0.4444444444444444, \"#bd3786\"], [0.5555555555555556, \"#d8576b\"], [0.6666666666666666, \"#ed7953\"], [0.7777777777777778, \"#fb9f3a\"], [0.8888888888888888, \"#fdca26\"], [1.0, \"#f0f921\"]], \"type\": \"heatmap\"}], \"heatmapgl\": [{\"colorbar\": {\"outlinewidth\": 0, \"ticks\": \"\"}, \"colorscale\": [[0.0, \"#0d0887\"], [0.1111111111111111, \"#46039f\"], [0.2222222222222222, \"#7201a8\"], [0.3333333333333333, \"#9c179e\"], [0.4444444444444444, \"#bd3786\"], [0.5555555555555556, \"#d8576b\"], [0.6666666666666666, \"#ed7953\"], [0.7777777777777778, \"#fb9f3a\"], [0.8888888888888888, \"#fdca26\"], [1.0, \"#f0f921\"]], \"type\": \"heatmapgl\"}], \"histogram\": [{\"marker\": {\"colorbar\": {\"outlinewidth\": 0, \"ticks\": \"\"}}, \"type\": \"histogram\"}], \"histogram2d\": [{\"colorbar\": {\"outlinewidth\": 0, \"ticks\": \"\"}, \"colorscale\": [[0.0, \"#0d0887\"], [0.1111111111111111, \"#46039f\"], [0.2222222222222222, \"#7201a8\"], [0.3333333333333333, \"#9c179e\"], [0.4444444444444444, \"#bd3786\"], [0.5555555555555556, \"#d8576b\"], [0.6666666666666666, \"#ed7953\"], [0.7777777777777778, \"#fb9f3a\"], [0.8888888888888888, \"#fdca26\"], [1.0, \"#f0f921\"]], \"type\": \"histogram2d\"}], \"histogram2dcontour\": [{\"colorbar\": {\"outlinewidth\": 0, \"ticks\": \"\"}, \"colorscale\": [[0.0, \"#0d0887\"], [0.1111111111111111, \"#46039f\"], [0.2222222222222222, \"#7201a8\"], [0.3333333333333333, \"#9c179e\"], [0.4444444444444444, \"#bd3786\"], [0.5555555555555556, \"#d8576b\"], [0.6666666666666666, \"#ed7953\"], [0.7777777777777778, \"#fb9f3a\"], [0.8888888888888888, \"#fdca26\"], [1.0, \"#f0f921\"]], \"type\": \"histogram2dcontour\"}], \"mesh3d\": [{\"colorbar\": {\"outlinewidth\": 0, \"ticks\": \"\"}, \"type\": \"mesh3d\"}], \"parcoords\": [{\"line\": {\"colorbar\": {\"outlinewidth\": 0, \"ticks\": \"\"}}, \"type\": \"parcoords\"}], \"pie\": [{\"automargin\": true, \"type\": \"pie\"}], \"scatter\": [{\"marker\": {\"colorbar\": {\"outlinewidth\": 0, \"ticks\": \"\"}}, \"type\": \"scatter\"}], \"scatter3d\": [{\"line\": {\"colorbar\": {\"outlinewidth\": 0, \"ticks\": \"\"}}, \"marker\": {\"colorbar\": {\"outlinewidth\": 0, \"ticks\": \"\"}}, \"type\": \"scatter3d\"}], \"scattercarpet\": [{\"marker\": {\"colorbar\": {\"outlinewidth\": 0, \"ticks\": \"\"}}, \"type\": \"scattercarpet\"}], \"scattergeo\": [{\"marker\": {\"colorbar\": {\"outlinewidth\": 0, \"ticks\": \"\"}}, \"type\": \"scattergeo\"}], \"scattergl\": [{\"marker\": {\"colorbar\": {\"outlinewidth\": 0, \"ticks\": \"\"}}, \"type\": \"scattergl\"}], \"scattermapbox\": [{\"marker\": {\"colorbar\": {\"outlinewidth\": 0, \"ticks\": \"\"}}, \"type\": \"scattermapbox\"}], \"scatterpolar\": [{\"marker\": {\"colorbar\": {\"outlinewidth\": 0, \"ticks\": \"\"}}, \"type\": \"scatterpolar\"}], \"scatterpolargl\": [{\"marker\": {\"colorbar\": {\"outlinewidth\": 0, \"ticks\": \"\"}}, \"type\": \"scatterpolargl\"}], \"scatterternary\": [{\"marker\": {\"colorbar\": {\"outlinewidth\": 0, \"ticks\": \"\"}}, \"type\": \"scatterternary\"}], \"surface\": [{\"colorbar\": {\"outlinewidth\": 0, \"ticks\": \"\"}, \"colorscale\": [[0.0, \"#0d0887\"], [0.1111111111111111, \"#46039f\"], [0.2222222222222222, \"#7201a8\"], [0.3333333333333333, \"#9c179e\"], [0.4444444444444444, \"#bd3786\"], [0.5555555555555556, \"#d8576b\"], [0.6666666666666666, \"#ed7953\"], [0.7777777777777778, \"#fb9f3a\"], [0.8888888888888888, \"#fdca26\"], [1.0, \"#f0f921\"]], \"type\": \"surface\"}], \"table\": [{\"cells\": {\"fill\": {\"color\": \"#EBF0F8\"}, \"line\": {\"color\": \"white\"}}, \"header\": {\"fill\": {\"color\": \"#C8D4E3\"}, \"line\": {\"color\": \"white\"}}, \"type\": \"table\"}]}, \"layout\": {\"annotationdefaults\": {\"arrowcolor\": \"#2a3f5f\", \"arrowhead\": 0, \"arrowwidth\": 1}, \"coloraxis\": {\"colorbar\": {\"outlinewidth\": 0, \"ticks\": \"\"}}, \"colorscale\": {\"diverging\": [[0, \"#8e0152\"], [0.1, \"#c51b7d\"], [0.2, \"#de77ae\"], [0.3, \"#f1b6da\"], [0.4, \"#fde0ef\"], [0.5, \"#f7f7f7\"], [0.6, \"#e6f5d0\"], [0.7, \"#b8e186\"], [0.8, \"#7fbc41\"], [0.9, \"#4d9221\"], [1, \"#276419\"]], \"sequential\": [[0.0, \"#0d0887\"], [0.1111111111111111, \"#46039f\"], [0.2222222222222222, \"#7201a8\"], [0.3333333333333333, \"#9c179e\"], [0.4444444444444444, \"#bd3786\"], [0.5555555555555556, \"#d8576b\"], [0.6666666666666666, \"#ed7953\"], [0.7777777777777778, \"#fb9f3a\"], [0.8888888888888888, \"#fdca26\"], [1.0, \"#f0f921\"]], \"sequentialminus\": [[0.0, \"#0d0887\"], [0.1111111111111111, \"#46039f\"], [0.2222222222222222, \"#7201a8\"], [0.3333333333333333, \"#9c179e\"], [0.4444444444444444, \"#bd3786\"], [0.5555555555555556, \"#d8576b\"], [0.6666666666666666, \"#ed7953\"], [0.7777777777777778, \"#fb9f3a\"], [0.8888888888888888, \"#fdca26\"], [1.0, \"#f0f921\"]]}, \"colorway\": [\"#636efa\", \"#EF553B\", \"#00cc96\", \"#ab63fa\", \"#FFA15A\", \"#19d3f3\", \"#FF6692\", \"#B6E880\", \"#FF97FF\", \"#FECB52\"], \"font\": {\"color\": \"#2a3f5f\"}, \"geo\": {\"bgcolor\": \"white\", \"lakecolor\": \"white\", \"landcolor\": \"#E5ECF6\", \"showlakes\": true, \"showland\": true, \"subunitcolor\": \"white\"}, \"hoverlabel\": {\"align\": \"left\"}, \"hovermode\": \"closest\", \"mapbox\": {\"style\": \"light\"}, \"paper_bgcolor\": \"white\", \"plot_bgcolor\": \"#E5ECF6\", \"polar\": {\"angularaxis\": {\"gridcolor\": \"white\", \"linecolor\": \"white\", \"ticks\": \"\"}, \"bgcolor\": \"#E5ECF6\", \"radialaxis\": {\"gridcolor\": \"white\", \"linecolor\": \"white\", \"ticks\": \"\"}}, \"scene\": {\"xaxis\": {\"backgroundcolor\": \"#E5ECF6\", \"gridcolor\": \"white\", \"gridwidth\": 2, \"linecolor\": \"white\", \"showbackground\": true, \"ticks\": \"\", \"zerolinecolor\": \"white\"}, \"yaxis\": {\"backgroundcolor\": \"#E5ECF6\", \"gridcolor\": \"white\", \"gridwidth\": 2, \"linecolor\": \"white\", \"showbackground\": true, \"ticks\": \"\", \"zerolinecolor\": \"white\"}, \"zaxis\": {\"backgroundcolor\": \"#E5ECF6\", \"gridcolor\": \"white\", \"gridwidth\": 2, \"linecolor\": \"white\", \"showbackground\": true, \"ticks\": \"\", \"zerolinecolor\": \"white\"}}, \"shapedefaults\": {\"line\": {\"color\": \"#2a3f5f\"}}, \"ternary\": {\"aaxis\": {\"gridcolor\": \"white\", \"linecolor\": \"white\", \"ticks\": \"\"}, \"baxis\": {\"gridcolor\": \"white\", \"linecolor\": \"white\", \"ticks\": \"\"}, \"bgcolor\": \"#E5ECF6\", \"caxis\": {\"gridcolor\": \"white\", \"linecolor\": \"white\", \"ticks\": \"\"}}, \"title\": {\"x\": 0.05}, \"xaxis\": {\"automargin\": true, \"gridcolor\": \"white\", \"linecolor\": \"white\", \"ticks\": \"\", \"title\": {\"standoff\": 15}, \"zerolinecolor\": \"white\", \"zerolinewidth\": 2}, \"yaxis\": {\"automargin\": true, \"gridcolor\": \"white\", \"linecolor\": \"white\", \"ticks\": \"\", \"title\": {\"standoff\": 15}, \"zerolinecolor\": \"white\", \"zerolinewidth\": 2}}}, \"xaxis\": {\"anchor\": \"y\", \"domain\": [0.0, 1.0], \"title\": {\"text\": \"ds_replicas_sites\"}}, \"yaxis\": {\"anchor\": \"x\", \"domain\": [0.0, 1.0], \"title\": {\"text\": \"value\"}}},                        {\"responsive\": true}                    ).then(function(){\n",
       "                            \n",
       "var gd = document.getElementById('2b777d67-7373-404c-b8c7-93ed36978fa0');\n",
       "var x = new MutationObserver(function (mutations, observer) {{\n",
       "        var display = window.getComputedStyle(gd).display;\n",
       "        if (!display || display === 'none') {{\n",
       "            console.log([gd, 'removed!']);\n",
       "            Plotly.purge(gd);\n",
       "            observer.disconnect();\n",
       "        }}\n",
       "}});\n",
       "\n",
       "// Listen for the removal of the full notebook cells\n",
       "var notebookContainer = gd.closest('#notebook-container');\n",
       "if (notebookContainer) {{\n",
       "    x.observe(notebookContainer, {childList: true});\n",
       "}}\n",
       "\n",
       "// Listen for the clearing of the current output cell\n",
       "var outputEl = gd.closest('.output');\n",
       "if (outputEl) {{\n",
       "    x.observe(outputEl, {childList: true});\n",
       "}}\n",
       "\n",
       "                        })                };                });            </script>        </div>"
      ]
     },
     "metadata": {},
     "output_type": "display_data"
    }
   ],
   "source": [
    "fig = px.bar(totals_all.head(50), orientation='v')\n",
    "fig.show()"
   ]
  },
  {
   "cell_type": "code",
   "execution_count": null,
   "metadata": {},
   "outputs": [],
   "source": []
  }
 ],
 "metadata": {
  "kernelspec": {
   "display_name": "Python 3",
   "language": "python",
   "name": "python3"
  },
  "language_info": {
   "codemirror_mode": {
    "name": "ipython",
    "version": 3
   },
   "file_extension": ".py",
   "mimetype": "text/x-python",
   "name": "python",
   "nbconvert_exporter": "python",
   "pygments_lexer": "ipython3",
   "version": "3.7.9"
  }
 },
 "nbformat": 4,
 "nbformat_minor": 4
}
